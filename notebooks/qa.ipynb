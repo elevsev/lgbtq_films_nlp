{
 "cells": [
  {
   "cell_type": "markdown",
   "metadata": {},
   "source": [
    "# Libraries"
   ]
  },
  {
   "cell_type": "code",
   "execution_count": 2,
   "metadata": {},
   "outputs": [],
   "source": [
    "import pandas as pd\n",
    "import numpy as np\n",
    "from bs4 import BeautifulSoup\n",
    "import requests\n",
    "\n",
    "from transformers import AutoTokenizer, AutoModelForSequenceClassification, AutoModelForQuestionAnswering, pipeline\n",
    "import torch\n",
    "import re"
   ]
  },
  {
   "cell_type": "markdown",
   "metadata": {},
   "source": [
    "# Model"
   ]
  },
  {
   "cell_type": "markdown",
   "metadata": {},
   "source": [
    "## Creating the Q&A pipeline"
   ]
  },
  {
   "cell_type": "code",
   "execution_count": 3,
   "metadata": {},
   "outputs": [
    {
     "name": "stderr",
     "output_type": "stream",
     "text": [
      "Downloading: 100%|██████████| 571/571 [00:00<00:00, 151kB/s]\n",
      "Downloading: 100%|██████████| 473M/473M [00:36<00:00, 13.7MB/s] \n",
      "Downloading: 100%|██████████| 79.0/79.0 [00:00<00:00, 28.5kB/s]\n",
      "Downloading: 100%|██████████| 878k/878k [00:00<00:00, 1.74MB/s]\n",
      "Downloading: 100%|██████████| 446k/446k [00:00<00:00, 1.01MB/s]\n",
      "Downloading: 100%|██████████| 772/772 [00:00<00:00, 526kB/s]\n"
     ]
    },
    {
     "data": {
      "text/plain": [
       "<transformers.pipelines.question_answering.QuestionAnsweringPipeline at 0x7f7c2e5ce0a0>"
      ]
     },
     "execution_count": 3,
     "metadata": {},
     "output_type": "execute_result"
    }
   ],
   "source": [
    "nlp = pipeline(\n",
    "    'question-answering',\n",
    "    model = 'deepset/roberta-base-squad2',\n",
    "    tokenizer = 'deepset/roberta-base-squad2'\n",
    ")\n",
    "\n",
    "nlp"
   ]
  },
  {
   "cell_type": "code",
   "execution_count": 46,
   "metadata": {},
   "outputs": [],
   "source": [
    "context = \"\"\"\n",
    "Plot\n",
    "See also: List of The L Word episodes\n",
    "Season 1\n",
    "Main article: The L Word (season 1)\n",
    "The first season of The L Word premiered on January 18, 2004 and ended on April 11, 2004. The season introduces Bette Porter and Tina Kennard, a couple in a seven-year relationship attempting to have a child; Marina Ferrer, owner of the local cafe The Planet; Jenny Schecter, who has recently moved to Los Angeles to live with her boyfriend Tim Haspell; Shane McCutcheon, an androgynous, highly sexual hairstylist; Alice Pieszecki, a bisexual journalist who maintains The Chart; Dana Fairbanks, a closeted professional tennis player; and Kit Porter, Bette's straight half-sister.\n",
    "\n",
    "Season 2\n",
    "Main article: The L Word (season 2)\n",
    "The second season of The L Word premiered on February 20, 2005 and ended on May 15, 2005. The season introduces Carmen de la Pica Morales, a DJ who becomes part of a love triangle with Shane and Jenny; Helena Peabody, a wealthy art patron who becomes a rival to Bette and love interest to Tina (while she and Bette are separated).\n",
    "\n",
    "Major storylines in the season include Tina's pregnancy following a second insemination, culminating in Tina and Bette's reconciliation at the end of the season; the introduction of Mark Wayland, a documentary filmmaker who moves in with Shane and Jenny and Kit's acquisition of The Planet following Marina's departure from Los Angeles;[17] Shane and Jenny becoming the unknowing subjects of Mark's documentary after he places hidden cameras in their home; a developing relationship between Alice and Dana; and insights into Jenny's past as an abused child.\n",
    "\n",
    "Season 3\n",
    "Main article: The L Word (season 3)\n",
    "The third season of The L Word premiered on January 8, 2006 and ended on March 26, 2006. The season introduces Moira Sweeney, a working-class butch; and Angus Partridge, a male nanny who becomes Kit's lover.[18]\n",
    "\n",
    "The season is set six months after the birth of Tina and Bette's daughter Angelica. Major storylines include Bette and Tina's relationship deteriorating once again, which leads Tina to start a fake relationship with a man in order to win a possible custody battle with Bette; Moira taking the name Max after coming out as a trans man; Dana's diagnosis with and ultimate death from breast cancer;[19] and Shane and Carmen's engagement and wedding, which ends when Shane abandons Carmen at the altar. Helena is integrated into the primary group of characters as a friend rather than a rival; she acquires a movie studio, where she is entangled in a sexual harassment lawsuit that leads her mother to cut her off financially.\n",
    "\n",
    "In the lead-up to the third season, the fan fiction website FanLib.com launched a contest where individuals could submit a piece of L Word fanfiction, with the winner's story incorporated into a scene in third-season episode.[20][21]\n",
    "\n",
    "Season 4\n",
    "Main article: The L Word (season 4)\n",
    "The L Word was renewed for a fourth season on February 2, 2006,[22] and began filming on May 29, 2006.[23] The season aired from January 7, 2007 to March 25, 2007,[24] and introduces Jodi Lerner, a love interest for Bette;[25] Phyllis Kroll, Bette's closeted new boss at California Art College;[26] Paige Sobel, a love interest for Shane;[27] Tasha Williams, a former Captain in the Army National Guard and love interest for Alice; and Papi, who has slept with the most women on The Chart.[26] Karina Lombard reprises her role for two episodes.[28]\n",
    "\n",
    "Major storylines in the season include the adaptation of Lez Girls, an article written by Jenny for The New Yorker, into a film; Bette taking a job as a dean at California Art College; and Tasha's struggle to reconcile her military service with her sexuality under don't ask, don't tell.\n",
    "\n",
    "Season 5\n",
    "Main article: The L Word (season 5)\n",
    "The L Word was renewed for a fifth season on March 8, 2007, and began filming in summer 2007.[29] The season aired from January 6, 2008 to March 23, 2008 and introduces Nikki Stevens, a closeted gay actress who portrays the lead role in Lez Girls. [30] Adele Channing is also introduced, potentially by chance meeting Jenny at the Planet, and soon becoming her personal assistant. Papi and Angus were written out of the series.[31]\n",
    "\n",
    "Major storylines in the season include Bette and Tina reconciling their relationship, Jenny being ousted from the production of Lez Girls, and Tasha's dishonorable discharge from the military.\n",
    "\n",
    "Season 6\n",
    "Main article: The L Word (season 6)\n",
    "The sixth and final season of The L Word aired from January 18, 2009 to March 8, 2009.[32] The season introduces Kelly Wentworth, Bette's college roommate, who attempts to open a gallery with her; Jamie Chen, a social worker who becomes involved in a love triangle with Alice and Tasha; and Marybeth Duffy and Sean Holden, detectives with the LAPD.[33]\n",
    "\n",
    "The season is a whodunit storyline focused on the murder of Jenny. The events of the season are depicted as a flashback leading up to the night of the crime, with each episode focused around what could have potentially motivated each character to have killed Jenny. The series concludes without revealing the identity of her murderer.\n",
    "\n",
    "Interrogation tapes\n",
    "Following the series finale of The L Word, Showtime released a series of seven short videos depicting Bette, Alice, Tina, Nikki Shane being questioned by the police over Jenny's murder. The episodes were posted weekly on Showtime's website. Showtime additionally released an interview with L Word series creator Ilene Chaiken, released in two weekly installments. In the interview, Chaiken stated that Alice went to jail for Jenny's murder, but was not necessarily guilty of the crime.[34][35]\n",
    "\n",
    "Generation Q\n",
    "Main article: The L Word: Generation Q\n",
    "On July 11, 2017, it was announced a sequel series was in the works with Showtime.[36] Marja-Lewis Ryan has been selected to serve as executive producer and showrunner.[36][37][38] On January 31, 2019, Entertainment Weekly reported Showtime had picked up the sequel series for a premiere later in the year, in which Jennifer Beals, Katherine Moennig, and Leisha Hailey would reprise their roles.[39] Other sources, such as TVLine,[40] call the eight-episode order a revival, so the nature of the follow-up is unclear. The new series, titled The L Word: Generation Q, will premiere in the fall of 2019.[41]\n",
    "\"\"\"\n",
    "\n",
    "# https://en.wikipedia.org/wiki/The_L_Word"
   ]
  },
  {
   "cell_type": "code",
   "execution_count": 19,
   "metadata": {},
   "outputs": [],
   "source": [
    "question_set = {\n",
    "    'question': \"What is Bette's job?\",\n",
    "    'context': context\n",
    "}"
   ]
  },
  {
   "cell_type": "code",
   "execution_count": 20,
   "metadata": {},
   "outputs": [
    {
     "data": {
      "text/plain": [
       "{'score': 0.5957592725753784, 'start': 3571, 'end': 3575, 'answer': 'dean'}"
      ]
     },
     "execution_count": 20,
     "metadata": {},
     "output_type": "execute_result"
    }
   ],
   "source": [
    "nlp(question_set)"
   ]
  },
  {
   "cell_type": "code",
   "execution_count": 27,
   "metadata": {},
   "outputs": [],
   "source": [
    "# context = \"Kerryn was a data scientist in 2020, Kerryn was a senior consultant in 2021.\""
   ]
  },
  {
   "cell_type": "code",
   "execution_count": 33,
   "metadata": {},
   "outputs": [],
   "source": [
    "def nlp_qa(question, context):\n",
    "    question_set = {\n",
    "    'question': question,\n",
    "    'context': context\n",
    "    }\n",
    "    print(nlp(question_set))\n",
    "\n"
   ]
  },
  {
   "cell_type": "code",
   "execution_count": 29,
   "metadata": {},
   "outputs": [],
   "source": [
    "# nlp_qa(question=\"What was Kerryn's job in 2021?\", context=context)"
   ]
  },
  {
   "cell_type": "markdown",
   "metadata": {},
   "source": [
    "# Anvil\n",
    "\n",
    "* https://anvil.works/\n"
   ]
  },
  {
   "cell_type": "markdown",
   "metadata": {},
   "source": [
    "## Import"
   ]
  },
  {
   "cell_type": "code",
   "execution_count": 34,
   "metadata": {},
   "outputs": [
    {
     "name": "stdout",
     "output_type": "stream",
     "text": [
      "huggingface/tokenizers: The current process just got forked, after parallelism has already been used. Disabling parallelism to avoid deadlocks...\n",
      "To disable this warning, you can either:\n",
      "\t- Avoid using `tokenizers` before the fork if possible\n",
      "\t- Explicitly set the environment variable TOKENIZERS_PARALLELISM=(true | false)\n",
      "Collecting anvil-uplink\n",
      "  Downloading anvil_uplink-0.3.42-py2.py3-none-any.whl (64 kB)\n",
      "\u001b[2K     \u001b[90m━━━━━━━━━━━━━━━━━━━━━━━━━━━━━━━━━━━━━━━━\u001b[0m \u001b[32m64.7/64.7 KB\u001b[0m \u001b[31m2.1 MB/s\u001b[0m eta \u001b[36m0:00:00\u001b[0m\n",
      "\u001b[?25hCollecting future\n",
      "  Downloading future-0.18.2.tar.gz (829 kB)\n",
      "\u001b[2K     \u001b[90m━━━━━━━━━━━━━━━━━━━━━━━━━━━━━━━━━━━━━━\u001b[0m \u001b[32m829.2/829.2 KB\u001b[0m \u001b[31m11.8 MB/s\u001b[0m eta \u001b[36m0:00:00\u001b[0ma \u001b[36m0:00:01\u001b[0m\n",
      "\u001b[?25h  Preparing metadata (setup.py) ... \u001b[?25ldone\n",
      "\u001b[?25hCollecting argparse\n",
      "  Downloading argparse-1.4.0-py2.py3-none-any.whl (23 kB)\n",
      "Requirement already satisfied: six in /Users/Kerryn/opt/anaconda3/envs/hf_3.8/lib/python3.8/site-packages (from anvil-uplink) (1.16.0)\n",
      "Collecting ws4py\n",
      "  Downloading ws4py-0.5.1.tar.gz (51 kB)\n",
      "\u001b[2K     \u001b[90m━━━━━━━━━━━━━━━━━━━━━━━━━━━━━━━━━━━━━━━━\u001b[0m \u001b[32m51.4/51.4 KB\u001b[0m \u001b[31m6.2 MB/s\u001b[0m eta \u001b[36m0:00:00\u001b[0m\n",
      "\u001b[?25h  Preparing metadata (setup.py) ... \u001b[?25ldone\n",
      "\u001b[?25hBuilding wheels for collected packages: future, ws4py\n",
      "  Building wheel for future (setup.py) ... \u001b[?25ldone\n",
      "\u001b[?25h  Created wheel for future: filename=future-0.18.2-py3-none-any.whl size=491070 sha256=36138a14f656efb089c1be3e416e59c02ce56c508130c63ec69949b15a3e6d32\n",
      "  Stored in directory: /Users/Kerryn/Library/Caches/pip/wheels/8e/70/28/3d6ccd6e315f65f245da085482a2e1c7d14b90b30f239e2cf4\n",
      "  Building wheel for ws4py (setup.py) ... \u001b[?25ldone\n",
      "\u001b[?25h  Created wheel for ws4py: filename=ws4py-0.5.1-py3-none-any.whl size=45229 sha256=ef59f68b130b069674611ab2287cd7f18bf9bb27dea456e04eef7f032a3eaded\n",
      "  Stored in directory: /Users/Kerryn/Library/Caches/pip/wheels/ea/f9/a1/34e2943cce3cf7daca304bfc35e91280694ced9194a487ce2f\n",
      "Successfully built future ws4py\n",
      "Installing collected packages: ws4py, argparse, future, anvil-uplink\n",
      "Successfully installed anvil-uplink-0.3.42 argparse-1.4.0 future-0.18.2 ws4py-0.5.1\n"
     ]
    }
   ],
   "source": [
    "!pip install anvil-uplink"
   ]
  },
  {
   "cell_type": "code",
   "execution_count": 56,
   "metadata": {},
   "outputs": [],
   "source": [
    "import anvil.server"
   ]
  },
  {
   "cell_type": "code",
   "execution_count": 57,
   "metadata": {},
   "outputs": [],
   "source": [
    "anvil.server.connect(\"LEZU7S6FEXEURVKXGHRG4TZU-EWYZ6Z7KA4U5AAFZ\")\n",
    "\n",
    "# LEZU7S6FEXEURVKXGHRG4TZU-EWYZ6Z7KA4U5AAFZ"
   ]
  },
  {
   "cell_type": "markdown",
   "metadata": {},
   "source": [
    "## set up function"
   ]
  },
  {
   "cell_type": "code",
   "execution_count": 47,
   "metadata": {},
   "outputs": [],
   "source": [
    "tlw_context = context"
   ]
  },
  {
   "cell_type": "code",
   "execution_count": 52,
   "metadata": {},
   "outputs": [],
   "source": [
    "# # tells the jupyter server that this is an Anvil callable function\n",
    "# @anvil.server.callable\n",
    "# # define the function that does the NLP\n",
    "# def answer_questions(question_text, context_text):\n",
    "#     # convert to dict\n",
    "#     question_set = {\n",
    "#         'question': question_text,\n",
    "#         'context': context_text\n",
    "#     }\n",
    "\n",
    "#     #run thro pipeline\n",
    "#     results = nlp(question_set)\n",
    "\n",
    "#     return (results['answer'])"
   ]
  },
  {
   "cell_type": "code",
   "execution_count": 59,
   "metadata": {},
   "outputs": [],
   "source": [
    "# Tells the jupyter server that this is a an Anvil callable function\n",
    "@anvil.server.callable\n",
    "def answer_questions(question_text, context_text): \n",
    "    # Convert this to a dictionary\n",
    "    question_set = {\n",
    "                'question':question_text, \n",
    "                'context':context_text\n",
    "               }\n",
    "    # Run it through the NLP pipeline\n",
    "    results = nlp(question_set)\n",
    "    \n",
    "    return results['answer']"
   ]
  },
  {
   "cell_type": "code",
   "execution_count": 55,
   "metadata": {},
   "outputs": [
    {
     "data": {
      "text/plain": [
       "'Kit Porter'"
      ]
     },
     "execution_count": 55,
     "metadata": {},
     "output_type": "execute_result"
    }
   ],
   "source": [
    "anvil_result = answer_questions(question_text=\"What is Bette's sister's name?\", context_text=tlw_context)\n",
    "\n",
    "anvil_result"
   ]
  },
  {
   "cell_type": "code",
   "execution_count": null,
   "metadata": {},
   "outputs": [],
   "source": []
  },
  {
   "cell_type": "code",
   "execution_count": null,
   "metadata": {},
   "outputs": [],
   "source": []
  },
  {
   "cell_type": "code",
   "execution_count": null,
   "metadata": {},
   "outputs": [],
   "source": []
  }
 ],
 "metadata": {
  "interpreter": {
   "hash": "376815cd287e1413bf3bb046d9e3b37473ac0acb84064222e61d26bc29788b7b"
  },
  "kernelspec": {
   "display_name": "Python 3.8.12 ('hf_3.8')",
   "language": "python",
   "name": "python3"
  },
  "language_info": {
   "codemirror_mode": {
    "name": "ipython",
    "version": 3
   },
   "file_extension": ".py",
   "mimetype": "text/x-python",
   "name": "python",
   "nbconvert_exporter": "python",
   "pygments_lexer": "ipython3",
   "version": "3.8.12"
  },
  "orig_nbformat": 4
 },
 "nbformat": 4,
 "nbformat_minor": 2
}
