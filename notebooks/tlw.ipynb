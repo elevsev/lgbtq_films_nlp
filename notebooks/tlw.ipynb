{
 "cells": [
  {
   "cell_type": "code",
   "execution_count": 1,
   "metadata": {},
   "outputs": [],
   "source": [
    "from bs4 import BeautifulSoup\n",
    "import requests, openpyxl\n",
    "import pandas as pd"
   ]
  },
  {
   "cell_type": "markdown",
   "metadata": {},
   "source": [
    "# Accessing the data via the IMDB website\n"
   ]
  },
  {
   "cell_type": "code",
   "execution_count": 3,
   "metadata": {},
   "outputs": [],
   "source": [
    "# https://www.youtube.com/watch?v=qNfxUsQ70QU&ab_channel=MattBarty\n",
    "# https://www.imdb.com/title/tt0096697/episodes?season=1"
   ]
  },
  {
   "cell_type": "code",
   "execution_count": 52,
   "metadata": {},
   "outputs": [],
   "source": [
    "# url = 'https://www.imdb.com/title/tt0096697/episodes?season=1'\n",
    "# response = requests.get(url)\n",
    "# season_page = BeautifulSoup(response.content)\n",
    "# episode_tile = season_page.findAll('div', attrs={'class': 'info'})"
   ]
  },
  {
   "cell_type": "markdown",
   "metadata": {},
   "source": [
    "## Original"
   ]
  },
  {
   "cell_type": "code",
   "execution_count": 5,
   "metadata": {},
   "outputs": [],
   "source": [
    "season_no_list = []\n",
    "episode_no_list = []\n",
    "episode_name_list = []\n",
    "episode_airdate_list = []\n",
    "episode_score_list = []\n",
    "episode_votes_list = []\n",
    "episode_description_list = []"
   ]
  },
  {
   "cell_type": "code",
   "execution_count": 6,
   "metadata": {},
   "outputs": [
    {
     "name": "stdout",
     "output_type": "stream",
     "text": [
      "--- Season: 1 ---\n",
      "Pilot\n",
      "18 Jan 2004\n",
      "8.0\n",
      "514\n",
      "Jenny moves to L.A. and meets her new lesbian neighbors.\n",
      "\n",
      "\n",
      "Let's Do It\n",
      "25 Jan 2004\n",
      "8.0\n",
      "324\n",
      "Bette and Tina wait eagerly to see if Tina will get pregnant; Tim, unaware of her encounter with Jenny, invites Marina to a dinner party, while Kit tries to make amends with Bette.\n",
      "\n",
      "\n",
      "Longing\n",
      "1 Feb 2004\n",
      "7.6\n",
      "275\n",
      "Bette takes a step to win her battle of wills with the chairman of the art gallery board; Jenny struggles with her feelings for Marina; Alice tries to regain her self-respect after a run-in with an ex; Dana finally gets a date with Lara.\n",
      "\n",
      "\n",
      "Lies, Lies, Lies\n",
      "8 Feb 2004\n",
      "7.7\n",
      "261\n",
      "Bette greets Tina's pregnancy with delight despite problems at work; Jenny's affair with Marina threatens her relationship with Tim; Dana's paranoia about the possibility of being out continues; the problems of Alice's mother escalate.\n",
      "\n",
      "\n",
      "Lawfully\n",
      "15 Feb 2004\n",
      "7.9\n",
      "252\n",
      "Tim discovers Jenny's affair with Marina - leading to a disastrous choice for the couple's shaky relationship; the reaction of Bette's father to Tina's pregnancy devastates Bette and leads Kit to confront him on her behalf.\n",
      "\n",
      "\n",
      "Losing It\n",
      "22 Feb 2004\n",
      "7.6\n",
      "247\n",
      "Bette's commitment is tested, while Tina is harassed by the sperm donor's girlfriend; Tim and Jenny return home separately.\n",
      "\n",
      "\n",
      "L'Ennui\n",
      "29 Feb 2004\n",
      "7.7\n",
      "236\n",
      "Rejection stings everyone as Tim pushes Jenny away, Marina's other lover is revealed, Dana runs from Lara and Kit is hurt when her son doesn't show up for their meeting.\n",
      "\n",
      "\n",
      "Listen Up\n",
      "7 Mar 2004\n",
      "7.7\n",
      "223\n",
      "Identities are in question as Jenny tries to explain her situation to an old friend, Dana comes out to her conservative parents, and Bette considers her self-image.\n",
      "\n",
      "\n",
      "Luck, Next Time\n",
      "14 Mar 2004\n",
      "7.7\n",
      "224\n",
      "Jenny is more confused and torn than ever between Marina and Tim; fame and all its complications find Shane; Kit rehearses for a hip hop music video.\n",
      "\n",
      "\n",
      "Liberally\n",
      "21 Mar 2004\n",
      "8.1\n",
      "239\n",
      "Tina's grief is eased by volunteer work; Bette defends the gallery against a right-wing attack; Marina has a fight with Francesca.\n",
      "\n",
      "\n",
      "Looking Back\n",
      "28 Mar 2004\n",
      "8.0\n",
      "227\n",
      "Bette hires an attractive contractor to set up for the gallery's new show; Tina, Jenny, Shane, Alice and Dana take an eventful trip to Palm Springs.\n",
      "\n",
      "\n",
      "Locked Up\n",
      "4 Apr 2004\n",
      "7.7\n",
      "220\n",
      "Bette lands in jail thanks to a near-riot at the gallery; Marina contemplates life without Francesca as Tim and Jenny discuss divorce.\n",
      "\n",
      "\n",
      "Limb From Limb\n",
      "11 Apr 2004\n",
      "8.4\n",
      "279\n",
      "Tina learns the truth about Candace; Dana loses a friend but gains a fiancee; Jenny finds herself in another romantic quandary involving Marina that pushes Tim further away.\n",
      "\n",
      "\n",
      "----- SEASON DONE -----\n",
      "--- Season: 2 ---\n",
      "Life, Loss, Leaving\n",
      "20 Feb 2005\n",
      "7.7\n",
      "228\n",
      "Tina rebuffs Bette's attempts at reconciliation while Jenny prepares for an emotional farewell with Tim.\n",
      "\n",
      "\n",
      "Lap Dance\n",
      "27 Feb 2005\n",
      "7.7\n",
      "204\n",
      "Tina hires a famous lawyer to represent her in the split with Bette; Jenny has a serious heart-to-heart with Robin; Kit's purchase of The Planet is finalized.\n",
      "\n",
      "\n",
      "Loneliest Number\n",
      "6 Mar 2005\n",
      "7.8\n",
      "194\n",
      "Kit preps The Planet for its grand reopening. Shane becomes Jenny's new roommate and Bette's emotional tailspin continues.\n",
      "\n",
      "\n",
      "Lynch Pin\n",
      "13 Mar 2005\n",
      "7.6\n",
      "227\n",
      "Jenny and Shane search for a third roommate and choose Mark, a straight boy very intrigued by the lesbian lifestyle, while Kit becomes attracted to a motivational self-help guru.\n",
      "\n",
      "\n",
      "Labyrinth\n",
      "20 Mar 2005\n",
      "7.9\n",
      "205\n",
      "Mark launches a new video project: taping Jenny and Shane; Bette and Tina's brief reunion is marred when Bette gets some bad professional news from Helena Peabody.\n",
      "\n",
      "\n",
      "Lagrimas de Oro\n",
      "27 Mar 2005\n",
      "7.6\n",
      "194\n",
      "Tina moves out and considers her attraction to Helena; Alice gives Dana an ultimatum but Tonya has a shock in store. Jenny and Carmen bond, encouraged by Shane.\n",
      "\n",
      "\n",
      "Luminous\n",
      "3 Apr 2005\n",
      "7.6\n",
      "205\n",
      "Alice and Dana tentatively begin dating, while Tina comes between Helena and her ex, Bette rejoins the singles scene, and Shane dulls her pain over Jenny and Carmen.\n",
      "\n",
      "\n",
      "Loyal\n",
      "10 Apr 2005\n",
      "7.6\n",
      "196\n",
      "Bette and Tina agree to forge a new relationship; Jenny loses a chance to ghost-write a macho TV star's autobiography because she's gay; Shane goes to church.\n",
      "\n",
      "\n",
      "Late, Later, Latent\n",
      "17 Apr 2005\n",
      "7.9\n",
      "194\n",
      "Alice's sex-toy request freaks out Dana; Jenny learns the truth about TV star Burr - and about Carmen's feelings for Shane; Bette and Tina have a brief encounter.\n",
      "\n",
      "\n",
      "Land Ahoy\n",
      "24 Apr 2005\n",
      "8.0\n",
      "183\n",
      "A lesbian cruise in the Caribbean proves eventful for Dana, Alice, Shane, Jenny and Carmen, while Bette and Kit struggle to connect with their aging father Melvin during a visit.\n",
      "\n",
      "\n",
      "Loud & Proud\n",
      "1 May 2005\n",
      "7.7\n",
      "177\n",
      "Against the backdrop of a gay-pride parade, shocking secrets are revealed about Dana's brother and Jenny's past, while Bette and Kit deal with their rapidly deteriorating father.\n",
      "\n",
      "\n",
      "L-Chaim\n",
      "8 May 2005\n",
      "7.7\n",
      "197\n",
      "Bette moves her father, played by Emmy-nominated actor Ossie Davis, into her home for his final days, as Alice struggles with her jealousy over Dana's dinner with an ex, and Jenny confronts a repressed memory.\n",
      "\n",
      "\n",
      "Lacuna\n",
      "15 May 2005\n",
      "7.7\n",
      "201\n",
      "Melvin's memorial service is attended by a surprise guest; Bette is fired by Franklin, then coaches Tina through what turns out to be an unexpectedly difficult labor and delivery; Jenny is in trouble and asks for help.\n",
      "\n",
      "\n",
      "----- SEASON DONE -----\n",
      "--- Season: 3 ---\n",
      "Labia Majora\n",
      "8 Jan 2006\n",
      "8.2\n",
      "208\n",
      "Bette and Tina try to rekindle their sexual groove after having a child; Helena purchases a movie studio; Jenny leaves the mid-west and heads back to L.A. with a new girlfriend in tow.\n",
      "\n",
      "\n",
      "Lost Weekend\n",
      "15 Jan 2006\n",
      "7.8\n",
      "173\n",
      "Party promoter Billie Blaikie sets up shop at The Planet; Alice refuses to let Helena throw out a life-size cut-out of Dana; Jenny wants to be more than friends with Moira; Bette feels her life is out of her control.\n",
      "\n",
      "\n",
      "Lobsters\n",
      "22 Jan 2006\n",
      "7.5\n",
      "169\n",
      "Shane goes to work at a cool new skate shop; Jenny introduces Moira to the girls; Kit befriends Bette and Tina's nanny, Angus; Alice continues her emotional tailspin over losing Dana; Tina goes to work for Helena.\n",
      "\n",
      "\n",
      "Light My Fire\n",
      "29 Jan 2006\n",
      "7.3\n",
      "179\n",
      "Bette takes on Washington; Kit wonders if she has made the right choice by hiring Billie; Helena falls for a straight documentary filmmaker.\n",
      "\n",
      "\n",
      "Lifeline\n",
      "5 Feb 2006\n",
      "7.8\n",
      "189\n",
      "Dana gets the results of her biopsy; Alice meets a lesbian \"vampire;\" Bette finds an open door into Tina's chat room; ex-flame Cherie drops into WAX - and Shane's chair; Jenny gets word a publisher is interested in her book about Moira/Max.\n",
      "\n",
      "\n",
      "Lifesize\n",
      "12 Feb 2006\n",
      "7.8\n",
      "163\n",
      "Tina continues to struggle with her feelings for men; Kit gives in to Angus; the girls rush to the hospital to be by Dana's side; New York comes calling to Jenny; Moira finds a shortcut to getting male hormones.\n",
      "\n",
      "\n",
      "Lone Star\n",
      "19 Feb 2006\n",
      "7.6\n",
      "165\n",
      "Jenny injects hormones into Moira; Dana undergoes chemotherapy; Shane and Carmen get matching tattoos; Alice frantically searches for her Dana cut-out; the B52's perform at The Planet; Kit fires Billie; Tina takes a step toward Josh.\n",
      "\n",
      "\n",
      "Latecomer\n",
      "26 Feb 2006\n",
      "8.0\n",
      "170\n",
      "Moira informs everyone she is to be called Max; Kit gets a helping hand from Nona Hendryx; Helena takes Dana and the girls to a basketball game; Jenny gets busy trying to throw a party; Tina moves out of Bette's bed; Dana gets a new look.\n",
      "\n",
      "\n",
      "Lead, Follow, or Get Out of the Way\n",
      "5 Mar 2006\n",
      "7.8\n",
      "167\n",
      "Dana's on the road to recovery; Carmen comes out to her family; Helena gets slapped with a lawsuit; Jenny attends a transsexual support group meeting to help her deal with Max; Bette continues her struggle to find inner peace.\n",
      "\n",
      "\n",
      "Losing the Light\n",
      "12 Mar 2006\n",
      "8.8\n",
      "252\n",
      "When Dana takes a turn for the worse, Alice keeps vigil at her bedside; Carmen drops the unexpected on Shane; Bette finds inner peace elusive; Jenny introduces her ex-husband to Max; Tina settles in with Henry.\n",
      "\n",
      "\n",
      "Last Dance\n",
      "19 Mar 2006\n",
      "8.3\n",
      "206\n",
      "Alice steals some of Dana's ashes; Bette thinks about fighting for sole custody of Angelica; Lara arrives home too late; Max finally lands a job - one for which Moira was rejected.\n",
      "\n",
      "\n",
      "Left Hand of the Goddess\n",
      "26 Mar 2006\n",
      "8.1\n",
      "179\n",
      "Still grieving the loss of Dana, the girls plan for Shane and Carmen's wedding; Kit discovers she's pregnant; Bette considers her options for obtaining sole custody of Angelica; Jenny realizes the truth about Max.\n",
      "\n",
      "\n",
      "----- SEASON DONE -----\n",
      "--- Season: 4 ---\n",
      "Legend in the Making\n",
      "7 Jan 2007\n",
      "7.7\n",
      "189\n",
      "Bette kidnaps baby Angelica until a custody agreement can be brokered with Tina; Shane jilts Carmen at the altar and spirals out of control; Jenny is reunited with Marina; Helena's mother cuts her off.\n",
      "\n",
      "\n",
      "Livin' La Vida Loca\n",
      "14 Jan 2007\n",
      "7.8\n",
      "181\n",
      "Bette adjusts to her new job in academia for a formidable new boss (Cybill Shepherd); Jenny's book receives a scathing review; Tina must fire Helena from the studio, leaving her nowhere to go but accept a roommate offer from Alice.\n",
      "\n",
      "\n",
      "Lassoed\n",
      "21 Jan 2007\n",
      "7.7\n",
      "169\n",
      "Bette embarks on an ill-advised affair with a teaching assistant, and her boss Phyllis comes out; Jenny tries to dig up dirt on the journalist that panned her book; Tina throws a party; Shane gets Helena a job at WAX.\n",
      "\n",
      "\n",
      "Layup\n",
      "28 Jan 2007\n",
      "8.0\n",
      "196\n",
      "Bette deals with an artist whose work is politically incendiary; Tina is rejected by her friends at a softball game and joins the opposing team.\n",
      "\n",
      "\n",
      "Lez Girls\n",
      "4 Feb 2007\n",
      "7.9\n",
      "190\n",
      "The tryst between Bette and her TA threatens her new career; Alice breaks up with Phyllis after meeting her husband; Tina discovers Angus with her au pair Hazel; Jenny publishes a short story in \"The New Yorker\" that infuriates Alice.\n",
      "\n",
      "\n",
      "Luck Be a Lady\n",
      "11 Feb 2007\n",
      "8.2\n",
      "214\n",
      "Bette enjoys a new romance even as she clashes with Tina over the baby's preschool and weathers the emotional fallout of Alice's split with Phyllis; Helena, Shane and Alice learn how to play poker.\n",
      "\n",
      "\n",
      "Lesson Number One\n",
      "18 Feb 2007\n",
      "8.1\n",
      "190\n",
      "Jenny's short story about her friends sparks interest from Hollywood; Helena struggles to pay back her poker debt; Alice's new girlfriend Tasha experiences flashbacks to the war in Iraq; Bette and her new girlfriend console Phyllis.\n",
      "\n",
      "\n",
      "Lexington and Concord\n",
      "25 Feb 2007\n",
      "8.0\n",
      "196\n",
      "Jenny's revenge on her critic backfires in front of her agents; Alice and Tasha disagree over the war in Iraq but find common ground romantically; Tina meets Bette's new girlfriend Jodi.\n",
      "\n",
      "\n",
      "Lacy Lilting Lyrics\n",
      "4 Mar 2007\n",
      "7.9\n",
      "193\n",
      "Tina and Jenny have creative differences over the development of their movie; Alice and her friends console Phyllis's heartbroken husband; Bette and Jodi's relationship might go to the next level if Bette can curb her Type-A personality.\n",
      "\n",
      "\n",
      "Little Boy Blue\n",
      "11 Mar 2007\n",
      "7.6\n",
      "191\n",
      "Kit binge-drinks over Angus's infidelity; Alice finds investors in her blog, but with strings attached that involve Jenny; Bette's control issues make an ugly appearance.\n",
      "\n",
      "\n",
      "Literary License to Kill\n",
      "18 Mar 2007\n",
      "7.7\n",
      "195\n",
      "Jenny's serialized short stories hit home for Bette, who faces losing Jodi to an art center on the east coast; Iraq flashbacks haunt Alice's girlfriend Tasha, who is ordered by a commanding officer to hide her sexuality.\n",
      "\n",
      "\n",
      "Long Time Coming\n",
      "25 Mar 2007\n",
      "8.1\n",
      "201\n",
      "Tina returns to lesbian life while Bette seeks her advice on wooing Jodi back; Shane's relationship with single-mom Paige gets serious; Tasha must return to Iraq; Phyllis pursues a divorce; Jenny may get fired from her own movie.\n",
      "\n",
      "\n",
      "----- SEASON DONE -----\n",
      "--- Season: 5 ---\n",
      "LGB Tease\n",
      "6 Jan 2008\n",
      "7.9\n",
      "195\n",
      "Shane derails plans to move in with Paige, then suffers the consequences; Jenny returns from vacation with a billionaire movie financier in tow; Phyllis has doubts about her romance with Joyce.\n",
      "\n",
      "\n",
      "Look Out, Here They Come!\n",
      "13 Jan 2008\n",
      "7.9\n",
      "185\n",
      "Tina's obvious affection for Bette affects her dating prospects; Shane's last-minute gig styling hair at a wedding results in a series of erotic encounters; Tasha reveals her reason for not shipping out to Iraq.\n",
      "\n",
      "\n",
      "Lady of the Lake\n",
      "20 Jan 2008\n",
      "7.6\n",
      "172\n",
      "Shane swears off sex and reaps the health benefits with new energy and focus; Tina's dating woes finally improve; Max ponders a mutual same-sex attraction to Jodi's interpreter; The Planet is burglarized and Kit attacked after hours.\n",
      "\n",
      "\n",
      "Let's Get This Party Started\n",
      "27 Jan 2008\n",
      "7.8\n",
      "175\n",
      "Bette's jealousy over Tina's new girlfriend is the probable cause of a surprising moment; Jenny is courted for the lead in her movie by the latest It girl; the gang attends the opening of a new lesbian club competing with The Planet.\n",
      "\n",
      "\n",
      "Lookin' at You, Kid\n",
      "3 Feb 2008\n",
      "8.2\n",
      "173\n",
      "Jenny throws a bash to introduce her friends to the actresses playing them in her movie; Bette and Tina try to deal with a rekindled spark; Alice outs a secretly gay sports star after he utters a homophobic slur.\n",
      "\n",
      "\n",
      "Lights! Camera! Action!\n",
      "10 Feb 2008\n",
      "7.9\n",
      "182\n",
      "Production on \"Lez Girls\" finally begins as Jenny deals with a recalcitrant star; Bette and Tina struggle with their feelings; the owners of SheBar take their war against the gang to the next level.\n",
      "\n",
      "\n",
      "Lesbians Gone Wild\n",
      "17 Feb 2008\n",
      "7.8\n",
      "167\n",
      "Clashes between actresses on the set of Jenny's movie segue into a night of lesbian Turkish oil wrestling and a visit from the cops; the hard-case colonel in charge of prosecuting Tasha's case arrives on base.\n",
      "\n",
      "\n",
      "Lay Down the Law\n",
      "24 Feb 2008\n",
      "7.9\n",
      "161\n",
      "Niki's handlers force her to appear at her movie premiere with a male escort; Bette and Tina's anguish increases; Tasha's military review board hearing ends with a surprise.\n",
      "\n",
      "\n",
      "Liquid Heat\n",
      "2 Mar 2008\n",
      "8.1\n",
      "198\n",
      "A heat wave causes temperatures to rise between Bette and Tina, who are trapped in an elevator by a power outage, and between Molly and Shane, whose attraction is discouraged by Phyllis; Jenny catches Nikki and Greg together.\n",
      "\n",
      "\n",
      "Lifecycle\n",
      "9 Mar 2008\n",
      "8.1\n",
      "168\n",
      "A memorial breast cancer bike ride becomes the unlikely setting where Bette and Tina reveal their rekindled passion, Jenny and Nikki shoot a steamy video, Molly stalks Shane, and Alice and Tasha consider a big move.\n",
      "\n",
      "\n",
      "Lunar Cycle\n",
      "16 Mar 2008\n",
      "7.9\n",
      "151\n",
      "Adele finally makes a power play and usurps Jenny as the director of \"Lez Girls,\" while Bette finalizes her breakup with Jodi, and a distressed Kit loses financial control of The Planet to Dawn and Cindi.\n",
      "\n",
      "\n",
      "Loyal and True\n",
      "23 Mar 2008\n",
      "7.7\n",
      "182\n",
      "Loyalty and betrayal walk hand-in-hand as Jenny is back-stabbed by a close friend, while Helena's restored heiress status means good fortune for her true friends.\n",
      "\n",
      "\n",
      "----- SEASON DONE -----\n",
      "--- Season: 6 ---\n",
      "Long Night's Journey Into Day\n",
      "18 Jan 2009\n",
      "7.4\n",
      "186\n",
      "A shocking revelation about the fate of a major character leads to a season-long series of flashbacks that will reveal the events leading up to a tragedy.\n",
      "\n",
      "\n",
      "Least Likely\n",
      "25 Jan 2009\n",
      "7.6\n",
      "153\n",
      "Bette and Tina discuss plans for a new life together, but the reappearance of an old acquaintance of Bette's threatens their future; Tasha and Alice seek counseling for their compatibility issues; an old flame sends Helena reeling.\n",
      "\n",
      "\n",
      "LMFAO\n",
      "1 Feb 2009\n",
      "7.8\n",
      "162\n",
      "The negative of Jenny's movie goes missing, while Shane's apologies to her are finally noticed; Jenny dismisses Alice's aspiration to write a screenplay; Phyllis shares a secret with Bette; Kit and Helena open a new nightclub.\n",
      "\n",
      "\n",
      "Leaving Los Angeles\n",
      "8 Feb 2009\n",
      "7.2\n",
      "154\n",
      "Shane and Jenny are still melting over each other; Bette and Tina meet a potential birth mother; Max tries to deal with being pregnant; Alice and Tasha play matchmaker; and Kelly Wentworth (Elizabeth Berkley) may have what Bette needs.\n",
      "\n",
      "\n",
      "Litmus Test\n",
      "15 Feb 2009\n",
      "7.5\n",
      "154\n",
      "Jenny writes another script that sells; Bette and Kelly go into business; Alice and Tasha have a third-wheel crush; the girls plot a sting operation to test Dylan; Jenny encroaches further on Shane.\n",
      "\n",
      "\n",
      "Lactose Intolerant\n",
      "22 Feb 2009\n",
      "7.5\n",
      "144\n",
      "Jenny throws a baby shower for Max; Bette and Tina hit a roadblock in the adoption process; Bette goes solo to her gallery's opening night celebration; Shane is feeling boxed in by Jenny; Alice starts to feel like three is a crowd.\n",
      "\n",
      "\n",
      "Last Couple Standing\n",
      "1 Mar 2009\n",
      "8.0\n",
      "150\n",
      "Rumors fly around a dance marathon that Alice and Tasha are having relationship trouble; someone plans a move to the Big Apple; Kit meets a real man; there's a no-show at the bus station.\n",
      "\n",
      "\n",
      "Last Word\n",
      "8 Mar 2009\n",
      "6.3\n",
      "266\n",
      "What starts out as a celebration of friendship quickly ends in a web of betrayal and deceit; the girls find themselves being investigated about Jenny's untimely death by Sergeant Duffy.\n",
      "\n",
      "\n",
      "----- SEASON DONE -----\n"
     ]
    }
   ],
   "source": [
    "for season in range(6):\n",
    "    season_no = season + 1\n",
    "\n",
    "    print(f'--- Season: {season_no} ---')\n",
    "\n",
    "    url = f'https://www.imdb.com/title/tt0330251/episodes?season={season_no}'\n",
    "\n",
    "    response = requests.get(url)\n",
    "    season_page = BeautifulSoup(response.content)\n",
    "    episode_tile = season_page.findAll('div', attrs={'class': 'info'})\n",
    "\n",
    "    for episode_no, episode in enumerate(episode_tile):\n",
    "\n",
    "        episode_name = episode.strong.a.text\n",
    "        print(episode_name)\n",
    "\n",
    "        episode_airdate = episode.find('div', attrs={'class': 'airdate'}).text.strip().replace('.', '')\n",
    "        print(episode_airdate)\n",
    "\n",
    "        episode_score = episode.find(\n",
    "            'div', attrs={'class': 'ipl-rating-widget'}\n",
    "        ).find(\n",
    "            'div',attrs={'class': 'ipl-rating-star small'}\n",
    "        ).find(\n",
    "            'span', attrs={'class': 'ipl-rating-star__rating'}).text\n",
    "        print(episode_score)\n",
    "\n",
    "        episode_votes = episode.find(\n",
    "            'div', attrs={'class': 'ipl-rating-widget'}\n",
    "        ).find(\n",
    "            'div',attrs={'class': 'ipl-rating-star small'}\n",
    "        ).find(\n",
    "            'span', attrs={'class': 'ipl-rating-star__total-votes'}\n",
    "            ).text.strip('()').replace(',','')\n",
    "        print(episode_votes)\n",
    "\n",
    "        episode_description = episode.find('div', attrs={'class': 'item_description'}).text.strip()\n",
    "        print(episode_description)\n",
    "\n",
    "        print('\\n')\n",
    "\n",
    "        season_no_list.append(season_no)\n",
    "        episode_no_list.append(episode_no + 1)\n",
    "        episode_airdate_list.append(episode_airdate)\n",
    "        episode_name_list.append(episode_name)\n",
    "        episode_score_list.append(episode_score)\n",
    "        episode_votes_list.append(episode_votes)\n",
    "        episode_description_list.append(episode_description)\n",
    "\n",
    "    print('----- SEASON DONE -----')\n"
   ]
  },
  {
   "cell_type": "code",
   "execution_count": 7,
   "metadata": {},
   "outputs": [
    {
     "name": "stdout",
     "output_type": "stream",
     "text": [
      "70\n",
      "70\n",
      "70\n",
      "70\n",
      "70\n",
      "70\n",
      "70\n"
     ]
    }
   ],
   "source": [
    "print(len(season_no_list))\n",
    "print(len(episode_no_list))\n",
    "print(len(episode_name_list))\n",
    "print(len(episode_airdate_list))\n",
    "print(len(episode_score_list))\n",
    "print(len(episode_votes_list))\n",
    "print(len(episode_description_list))"
   ]
  },
  {
   "cell_type": "code",
   "execution_count": 10,
   "metadata": {},
   "outputs": [
    {
     "data": {
      "text/html": [
       "<div>\n",
       "<style scoped>\n",
       "    .dataframe tbody tr th:only-of-type {\n",
       "        vertical-align: middle;\n",
       "    }\n",
       "\n",
       "    .dataframe tbody tr th {\n",
       "        vertical-align: top;\n",
       "    }\n",
       "\n",
       "    .dataframe thead th {\n",
       "        text-align: right;\n",
       "    }\n",
       "</style>\n",
       "<table border=\"1\" class=\"dataframe\">\n",
       "  <thead>\n",
       "    <tr style=\"text-align: right;\">\n",
       "      <th></th>\n",
       "      <th>season_no</th>\n",
       "      <th>episode_no</th>\n",
       "      <th>episode_name</th>\n",
       "      <th>episode_airdate</th>\n",
       "      <th>episode_score</th>\n",
       "      <th>episode_votes</th>\n",
       "      <th>episode_description</th>\n",
       "      <th>generation</th>\n",
       "    </tr>\n",
       "  </thead>\n",
       "  <tbody>\n",
       "    <tr>\n",
       "      <th>0</th>\n",
       "      <td>1</td>\n",
       "      <td>1</td>\n",
       "      <td>Pilot</td>\n",
       "      <td>18 Jan 2004</td>\n",
       "      <td>8.0</td>\n",
       "      <td>514</td>\n",
       "      <td>Jenny moves to L.A. and meets her new lesbian ...</td>\n",
       "      <td>Original</td>\n",
       "    </tr>\n",
       "    <tr>\n",
       "      <th>1</th>\n",
       "      <td>1</td>\n",
       "      <td>2</td>\n",
       "      <td>Let's Do It</td>\n",
       "      <td>25 Jan 2004</td>\n",
       "      <td>8.0</td>\n",
       "      <td>324</td>\n",
       "      <td>Bette and Tina wait eagerly to see if Tina wil...</td>\n",
       "      <td>Original</td>\n",
       "    </tr>\n",
       "    <tr>\n",
       "      <th>2</th>\n",
       "      <td>1</td>\n",
       "      <td>3</td>\n",
       "      <td>Longing</td>\n",
       "      <td>1 Feb 2004</td>\n",
       "      <td>7.6</td>\n",
       "      <td>275</td>\n",
       "      <td>Bette takes a step to win her battle of wills ...</td>\n",
       "      <td>Original</td>\n",
       "    </tr>\n",
       "    <tr>\n",
       "      <th>3</th>\n",
       "      <td>1</td>\n",
       "      <td>4</td>\n",
       "      <td>Lies, Lies, Lies</td>\n",
       "      <td>8 Feb 2004</td>\n",
       "      <td>7.7</td>\n",
       "      <td>261</td>\n",
       "      <td>Bette greets Tina's pregnancy with delight des...</td>\n",
       "      <td>Original</td>\n",
       "    </tr>\n",
       "    <tr>\n",
       "      <th>4</th>\n",
       "      <td>1</td>\n",
       "      <td>5</td>\n",
       "      <td>Lawfully</td>\n",
       "      <td>15 Feb 2004</td>\n",
       "      <td>7.9</td>\n",
       "      <td>252</td>\n",
       "      <td>Tim discovers Jenny's affair with Marina - lea...</td>\n",
       "      <td>Original</td>\n",
       "    </tr>\n",
       "    <tr>\n",
       "      <th>...</th>\n",
       "      <td>...</td>\n",
       "      <td>...</td>\n",
       "      <td>...</td>\n",
       "      <td>...</td>\n",
       "      <td>...</td>\n",
       "      <td>...</td>\n",
       "      <td>...</td>\n",
       "      <td>...</td>\n",
       "    </tr>\n",
       "    <tr>\n",
       "      <th>65</th>\n",
       "      <td>6</td>\n",
       "      <td>4</td>\n",
       "      <td>Leaving Los Angeles</td>\n",
       "      <td>8 Feb 2009</td>\n",
       "      <td>7.2</td>\n",
       "      <td>154</td>\n",
       "      <td>Shane and Jenny are still melting over each ot...</td>\n",
       "      <td>Original</td>\n",
       "    </tr>\n",
       "    <tr>\n",
       "      <th>66</th>\n",
       "      <td>6</td>\n",
       "      <td>5</td>\n",
       "      <td>Litmus Test</td>\n",
       "      <td>15 Feb 2009</td>\n",
       "      <td>7.5</td>\n",
       "      <td>154</td>\n",
       "      <td>Jenny writes another script that sells; Bette ...</td>\n",
       "      <td>Original</td>\n",
       "    </tr>\n",
       "    <tr>\n",
       "      <th>67</th>\n",
       "      <td>6</td>\n",
       "      <td>6</td>\n",
       "      <td>Lactose Intolerant</td>\n",
       "      <td>22 Feb 2009</td>\n",
       "      <td>7.5</td>\n",
       "      <td>144</td>\n",
       "      <td>Jenny throws a baby shower for Max; Bette and ...</td>\n",
       "      <td>Original</td>\n",
       "    </tr>\n",
       "    <tr>\n",
       "      <th>68</th>\n",
       "      <td>6</td>\n",
       "      <td>7</td>\n",
       "      <td>Last Couple Standing</td>\n",
       "      <td>1 Mar 2009</td>\n",
       "      <td>8.0</td>\n",
       "      <td>150</td>\n",
       "      <td>Rumors fly around a dance marathon that Alice ...</td>\n",
       "      <td>Original</td>\n",
       "    </tr>\n",
       "    <tr>\n",
       "      <th>69</th>\n",
       "      <td>6</td>\n",
       "      <td>8</td>\n",
       "      <td>Last Word</td>\n",
       "      <td>8 Mar 2009</td>\n",
       "      <td>6.3</td>\n",
       "      <td>266</td>\n",
       "      <td>What starts out as a celebration of friendship...</td>\n",
       "      <td>Original</td>\n",
       "    </tr>\n",
       "  </tbody>\n",
       "</table>\n",
       "<p>70 rows × 8 columns</p>\n",
       "</div>"
      ],
      "text/plain": [
       "    season_no  episode_no          episode_name episode_airdate episode_score  \\\n",
       "0           1           1                 Pilot     18 Jan 2004           8.0   \n",
       "1           1           2           Let's Do It     25 Jan 2004           8.0   \n",
       "2           1           3               Longing      1 Feb 2004           7.6   \n",
       "3           1           4      Lies, Lies, Lies      8 Feb 2004           7.7   \n",
       "4           1           5              Lawfully     15 Feb 2004           7.9   \n",
       "..        ...         ...                   ...             ...           ...   \n",
       "65          6           4   Leaving Los Angeles      8 Feb 2009           7.2   \n",
       "66          6           5           Litmus Test     15 Feb 2009           7.5   \n",
       "67          6           6    Lactose Intolerant     22 Feb 2009           7.5   \n",
       "68          6           7  Last Couple Standing      1 Mar 2009           8.0   \n",
       "69          6           8             Last Word      8 Mar 2009           6.3   \n",
       "\n",
       "   episode_votes                                episode_description generation  \n",
       "0            514  Jenny moves to L.A. and meets her new lesbian ...   Original  \n",
       "1            324  Bette and Tina wait eagerly to see if Tina wil...   Original  \n",
       "2            275  Bette takes a step to win her battle of wills ...   Original  \n",
       "3            261  Bette greets Tina's pregnancy with delight des...   Original  \n",
       "4            252  Tim discovers Jenny's affair with Marina - lea...   Original  \n",
       "..           ...                                                ...        ...  \n",
       "65           154  Shane and Jenny are still melting over each ot...   Original  \n",
       "66           154  Jenny writes another script that sells; Bette ...   Original  \n",
       "67           144  Jenny throws a baby shower for Max; Bette and ...   Original  \n",
       "68           150  Rumors fly around a dance marathon that Alice ...   Original  \n",
       "69           266  What starts out as a celebration of friendship...   Original  \n",
       "\n",
       "[70 rows x 8 columns]"
      ]
     },
     "execution_count": 10,
     "metadata": {},
     "output_type": "execute_result"
    }
   ],
   "source": [
    "tlw_df = pd.DataFrame({\n",
    "    'season_no': season_no_list,\n",
    "    'episode_no': episode_no_list,\n",
    "    'episode_name': episode_name_list,\n",
    "    'episode_airdate': episode_airdate_list,\n",
    "    'episode_score': episode_score_list,\n",
    "    'episode_votes': episode_votes_list,\n",
    "    'episode_description': episode_description_list,\n",
    "})\n",
    "\n",
    "tlw_df['generation'] = 'Original'\n",
    "\n",
    "tlw_df"
   ]
  },
  {
   "cell_type": "code",
   "execution_count": 11,
   "metadata": {},
   "outputs": [],
   "source": [
    "tlw_df.to_excel('tlw_df.xlsx')"
   ]
  },
  {
   "cell_type": "markdown",
   "metadata": {},
   "source": [
    "## GenQ"
   ]
  },
  {
   "cell_type": "code",
   "execution_count": 12,
   "metadata": {},
   "outputs": [],
   "source": [
    "season_no_list = []\n",
    "episode_no_list = []\n",
    "episode_name_list = []\n",
    "episode_airdate_list = []\n",
    "episode_score_list = []\n",
    "episode_votes_list = []\n",
    "episode_description_list = []"
   ]
  },
  {
   "cell_type": "code",
   "execution_count": 13,
   "metadata": {},
   "outputs": [
    {
     "name": "stdout",
     "output_type": "stream",
     "text": [
      "--- Season: 1 ---\n",
      "Let's Do It Again\n",
      "4 Feb 2020\n",
      "8.1\n",
      "390\n",
      "Ten years after we last left them, we find Bette, Shane and Alice getting on with their lives and careers, and meet Dani Núñez, her girlfriend Sophie Suarez, their best friend Micah Lee, and the charming (Sarah) Finley.\n",
      "\n",
      "\n",
      "Less is More\n",
      "15 Dec 2019\n",
      "8.1\n",
      "284\n",
      "Bette weathers fallout as she prepares for an LGBTQIA Center talk. Shane helps Finley, and Alice is annoyed when the network forces her to bring on a new staff member. Dani and Sophie celebrate good news as Dani begins a new job.\n",
      "\n",
      "\n",
      "Lost Love\n",
      "18 Feb 2020\n",
      "8.1\n",
      "257\n",
      "Bette prepares for an important debate. Alice lands a huge guest. Shane visits a bar and gets embroiled with two of its employees. Dani and Sophie's families clash, and a budding relationship forces Finley to confront her past.\n",
      "\n",
      "\n",
      "LA Times\n",
      "29 Dec 2019\n",
      "8.6\n",
      "288\n",
      "Dani is forced to get involved in Bette's personal life, Shane grapples with a big decision, Alice is profiled by a newspaper, Finley struggles with her growing feelings for Rebecca, Micah still doesn't know where things stand with José.\n",
      "\n",
      "\n",
      "Labels\n",
      "5 Jan 2020\n",
      "8.4\n",
      "230\n",
      "Bette feels guilty about lying to Angie; unexpected news throws Shane for a loop; Alice, Gigi and Nat find common ground; Dani and Sophie deal with a bombshell dropped by Dani's father; Finley bonds with Tess; Micah grows closer to José.\n",
      "\n",
      "\n",
      "Loose Ends\n",
      "12 Jan 2020\n",
      "8.7\n",
      "275\n",
      "Bette and Dani reckon with the fallout of a recent scandal; Shane spends the day with Angie; Alice, Gigi, and Nat have conflicting ideas about their family life; Sophie and Finley spend a raucous night out to get their mind off of things.\n",
      "\n",
      "\n",
      "Lose It All\n",
      "19 Jan 2020\n",
      "8.2\n",
      "200\n",
      "Bette is conflicted about old feelings, Shane is tested by her relationship with Quiara, Alice is blindsided at home and work. Dani, busy on the election, Sophie feels relieved to have Finley around. Micah introduces José to his mother.\n",
      "\n",
      "\n",
      "Lapse in Judgement\n",
      "26 Jan 2020\n",
      "8.6\n",
      "211\n",
      "Tensions run high as Bette and Dani await the election results; Shane and Quiara go through a difficult challenge; Alice takes a big swing on her show; Sophie and Dani consider another big step in their relationship.\n",
      "\n",
      "\n",
      "----- SEASON DONE -----\n",
      "--- Season: 2 ---\n",
      "Late to the Party\n",
      "6 Aug 2021\n",
      "8.6\n",
      "235\n",
      "Bette is forced to navigate major changes. Shane is pulled into LA's poker scene. Alice and Nat readjust to couple-hood. Sophie, Dani and Finley must deal with the fallout of Sophie's decision. Micah navigates his new normal.\n",
      "\n",
      "\n",
      "Lean on Me\n",
      "13 Aug 2021\n",
      "8.2\n",
      "166\n",
      "Bette makes big moves at her new job. Shane vies to get Tess on board with a fresh idea for the bar. Alice suspects Nat is hiding something. Sophie, Dani and Finley deal with a shocking event as Micah grapples his relationship with José.\n",
      "\n",
      "\n",
      "Luck Be a Lady\n",
      "20 Aug 2021\n",
      "8.4\n",
      "150\n",
      "Bette's passion is ignited at work while Angie receives some big news that complicates things at home. Shane and Tess's business venture doesn't go as planned and Alice resists facing the truth of her situation with Nat.\n",
      "\n",
      "\n",
      "Lake House\n",
      "27 Aug 2021\n",
      "8.1\n",
      "138\n",
      "Bette finds the artist Pippa Pascal and offers to promote her work. Encouraged by Micah, Sophie meets up with Dani and shuns Finley. Shane chats to Angie about her biological dad, Alice returns to her own house where her mother is staying.\n",
      "\n",
      "\n",
      "Lobsters, Too\n",
      "3 Sep 2021\n",
      "8.3\n",
      "140\n",
      "Bette, Tina and Carrie are all forced together to support Angie. Shane is shocked when someone from her past re-enters her life. Alice and Tom question what they are to each other now that her book is finished.\n",
      "\n",
      "\n",
      "Love Shack\n",
      "10 Sep 2021\n",
      "8.4\n",
      "138\n",
      "During an explosive night at Dana's, Bette is pushed to be honest. Shane deals with fallout from an ex's visit. Alice confronts her feelings for Tom. Everything unsaid among Sophie, Dani and Finley threatens to come out.\n",
      "\n",
      "\n",
      "Light\n",
      "17 Sep 2021\n",
      "8.4\n",
      "131\n",
      "Bette takes a big swing with Pippa. Shane leans on Tess. Alice's run-in with someone from her past throws her for a loop. Meanwhile, Dani examines what's holding her back as Sophie is pushed to question Finley's maturity.\n",
      "\n",
      "\n",
      "Launch Party\n",
      "24 Sep 2021\n",
      "8.2\n",
      "122\n",
      "A fallout between Bette and Dani. Shane confronts her true feelings for Tess. Alice questions whether to reveal a secret to Tom. Meanwhile, Sophie and Finley struggle to move forward.\n",
      "\n",
      "\n",
      "Last Dance\n",
      "1 Oct 2021\n",
      "8.7\n",
      "115\n",
      "Tensions rise between Bette, Tina and Angie; Shane struggles with a secret; Alice questions how open to be on her press tour. Meanwhile, Sophie confronts some harsh realities about Finley as Dani's life is thrown into total turmoil.\n",
      "\n",
      "\n",
      "Last Call\n",
      "8 Oct 2021\n",
      "8.7\n",
      "103\n",
      "Bette is forced to make a huge decision as Tina and Carrie's wedding quickly approaches; Shane and Tess reach a crossroad in their relationship; and the release of Alice's book has a ripple effect on her personal life.\n",
      "\n",
      "\n",
      "----- SEASON DONE -----\n"
     ]
    }
   ],
   "source": [
    "for season in range(2):\n",
    "    season_no = season + 1\n",
    "\n",
    "    print(f'--- Season: {season_no} ---')\n",
    "\n",
    "    url = f'https://www.imdb.com/title/tt7661384/episodes?season={season_no}'\n",
    "\n",
    "    response = requests.get(url)\n",
    "    season_page = BeautifulSoup(response.content)\n",
    "    episode_tile = season_page.findAll('div', attrs={'class': 'info'})\n",
    "\n",
    "    for episode_no, episode in enumerate(episode_tile):\n",
    "\n",
    "        episode_name = episode.strong.a.text\n",
    "        print(episode_name)\n",
    "\n",
    "        episode_airdate = episode.find('div', attrs={'class': 'airdate'}).text.strip().replace('.', '')\n",
    "        print(episode_airdate)\n",
    "\n",
    "        episode_score = episode.find(\n",
    "            'div', attrs={'class': 'ipl-rating-widget'}\n",
    "        ).find(\n",
    "            'div',attrs={'class': 'ipl-rating-star small'}\n",
    "        ).find(\n",
    "            'span', attrs={'class': 'ipl-rating-star__rating'}).text\n",
    "        print(episode_score)\n",
    "\n",
    "        episode_votes = episode.find(\n",
    "            'div', attrs={'class': 'ipl-rating-widget'}\n",
    "        ).find(\n",
    "            'div',attrs={'class': 'ipl-rating-star small'}\n",
    "        ).find(\n",
    "            'span', attrs={'class': 'ipl-rating-star__total-votes'}\n",
    "            ).text.strip('()').replace(',','')\n",
    "        print(episode_votes)\n",
    "\n",
    "        episode_description = episode.find('div', attrs={'class': 'item_description'}).text.strip()\n",
    "        print(episode_description)\n",
    "\n",
    "        print('\\n')\n",
    "\n",
    "        season_no_list.append(season_no)\n",
    "        episode_no_list.append(episode_no + 1)\n",
    "        episode_airdate_list.append(episode_airdate)\n",
    "        episode_name_list.append(episode_name)\n",
    "        episode_score_list.append(episode_score)\n",
    "        episode_votes_list.append(episode_votes)\n",
    "        episode_description_list.append(episode_description)\n",
    "\n",
    "    print('----- SEASON DONE -----')"
   ]
  },
  {
   "cell_type": "code",
   "execution_count": 14,
   "metadata": {},
   "outputs": [
    {
     "name": "stdout",
     "output_type": "stream",
     "text": [
      "18\n",
      "18\n",
      "18\n",
      "18\n",
      "18\n",
      "18\n",
      "18\n"
     ]
    }
   ],
   "source": [
    "print(len(season_no_list))\n",
    "print(len(episode_no_list))\n",
    "print(len(episode_name_list))\n",
    "print(len(episode_airdate_list))\n",
    "print(len(episode_score_list))\n",
    "print(len(episode_votes_list))\n",
    "print(len(episode_description_list))"
   ]
  },
  {
   "cell_type": "code",
   "execution_count": 15,
   "metadata": {},
   "outputs": [
    {
     "data": {
      "text/html": [
       "<div>\n",
       "<style scoped>\n",
       "    .dataframe tbody tr th:only-of-type {\n",
       "        vertical-align: middle;\n",
       "    }\n",
       "\n",
       "    .dataframe tbody tr th {\n",
       "        vertical-align: top;\n",
       "    }\n",
       "\n",
       "    .dataframe thead th {\n",
       "        text-align: right;\n",
       "    }\n",
       "</style>\n",
       "<table border=\"1\" class=\"dataframe\">\n",
       "  <thead>\n",
       "    <tr style=\"text-align: right;\">\n",
       "      <th></th>\n",
       "      <th>season_no</th>\n",
       "      <th>episode_no</th>\n",
       "      <th>episode_name</th>\n",
       "      <th>episode_airdate</th>\n",
       "      <th>episode_score</th>\n",
       "      <th>episode_votes</th>\n",
       "      <th>episode_description</th>\n",
       "      <th>generation</th>\n",
       "    </tr>\n",
       "  </thead>\n",
       "  <tbody>\n",
       "    <tr>\n",
       "      <th>0</th>\n",
       "      <td>1</td>\n",
       "      <td>1</td>\n",
       "      <td>Let's Do It Again</td>\n",
       "      <td>4 Feb 2020</td>\n",
       "      <td>8.1</td>\n",
       "      <td>390</td>\n",
       "      <td>Ten years after we last left them, we find Bet...</td>\n",
       "      <td>GenerationQ</td>\n",
       "    </tr>\n",
       "    <tr>\n",
       "      <th>1</th>\n",
       "      <td>1</td>\n",
       "      <td>2</td>\n",
       "      <td>Less is More</td>\n",
       "      <td>15 Dec 2019</td>\n",
       "      <td>8.1</td>\n",
       "      <td>284</td>\n",
       "      <td>Bette weathers fallout as she prepares for an ...</td>\n",
       "      <td>GenerationQ</td>\n",
       "    </tr>\n",
       "    <tr>\n",
       "      <th>2</th>\n",
       "      <td>1</td>\n",
       "      <td>3</td>\n",
       "      <td>Lost Love</td>\n",
       "      <td>18 Feb 2020</td>\n",
       "      <td>8.1</td>\n",
       "      <td>257</td>\n",
       "      <td>Bette prepares for an important debate. Alice ...</td>\n",
       "      <td>GenerationQ</td>\n",
       "    </tr>\n",
       "    <tr>\n",
       "      <th>3</th>\n",
       "      <td>1</td>\n",
       "      <td>4</td>\n",
       "      <td>LA Times</td>\n",
       "      <td>29 Dec 2019</td>\n",
       "      <td>8.6</td>\n",
       "      <td>288</td>\n",
       "      <td>Dani is forced to get involved in Bette's pers...</td>\n",
       "      <td>GenerationQ</td>\n",
       "    </tr>\n",
       "    <tr>\n",
       "      <th>4</th>\n",
       "      <td>1</td>\n",
       "      <td>5</td>\n",
       "      <td>Labels</td>\n",
       "      <td>5 Jan 2020</td>\n",
       "      <td>8.4</td>\n",
       "      <td>230</td>\n",
       "      <td>Bette feels guilty about lying to Angie; unexp...</td>\n",
       "      <td>GenerationQ</td>\n",
       "    </tr>\n",
       "    <tr>\n",
       "      <th>5</th>\n",
       "      <td>1</td>\n",
       "      <td>6</td>\n",
       "      <td>Loose Ends</td>\n",
       "      <td>12 Jan 2020</td>\n",
       "      <td>8.7</td>\n",
       "      <td>275</td>\n",
       "      <td>Bette and Dani reckon with the fallout of a re...</td>\n",
       "      <td>GenerationQ</td>\n",
       "    </tr>\n",
       "    <tr>\n",
       "      <th>6</th>\n",
       "      <td>1</td>\n",
       "      <td>7</td>\n",
       "      <td>Lose It All</td>\n",
       "      <td>19 Jan 2020</td>\n",
       "      <td>8.2</td>\n",
       "      <td>200</td>\n",
       "      <td>Bette is conflicted about old feelings, Shane ...</td>\n",
       "      <td>GenerationQ</td>\n",
       "    </tr>\n",
       "    <tr>\n",
       "      <th>7</th>\n",
       "      <td>1</td>\n",
       "      <td>8</td>\n",
       "      <td>Lapse in Judgement</td>\n",
       "      <td>26 Jan 2020</td>\n",
       "      <td>8.6</td>\n",
       "      <td>211</td>\n",
       "      <td>Tensions run high as Bette and Dani await the ...</td>\n",
       "      <td>GenerationQ</td>\n",
       "    </tr>\n",
       "    <tr>\n",
       "      <th>8</th>\n",
       "      <td>2</td>\n",
       "      <td>1</td>\n",
       "      <td>Late to the Party</td>\n",
       "      <td>6 Aug 2021</td>\n",
       "      <td>8.6</td>\n",
       "      <td>235</td>\n",
       "      <td>Bette is forced to navigate major changes. Sha...</td>\n",
       "      <td>GenerationQ</td>\n",
       "    </tr>\n",
       "    <tr>\n",
       "      <th>9</th>\n",
       "      <td>2</td>\n",
       "      <td>2</td>\n",
       "      <td>Lean on Me</td>\n",
       "      <td>13 Aug 2021</td>\n",
       "      <td>8.2</td>\n",
       "      <td>166</td>\n",
       "      <td>Bette makes big moves at her new job. Shane vi...</td>\n",
       "      <td>GenerationQ</td>\n",
       "    </tr>\n",
       "    <tr>\n",
       "      <th>10</th>\n",
       "      <td>2</td>\n",
       "      <td>3</td>\n",
       "      <td>Luck Be a Lady</td>\n",
       "      <td>20 Aug 2021</td>\n",
       "      <td>8.4</td>\n",
       "      <td>150</td>\n",
       "      <td>Bette's passion is ignited at work while Angie...</td>\n",
       "      <td>GenerationQ</td>\n",
       "    </tr>\n",
       "    <tr>\n",
       "      <th>11</th>\n",
       "      <td>2</td>\n",
       "      <td>4</td>\n",
       "      <td>Lake House</td>\n",
       "      <td>27 Aug 2021</td>\n",
       "      <td>8.1</td>\n",
       "      <td>138</td>\n",
       "      <td>Bette finds the artist Pippa Pascal and offers...</td>\n",
       "      <td>GenerationQ</td>\n",
       "    </tr>\n",
       "    <tr>\n",
       "      <th>12</th>\n",
       "      <td>2</td>\n",
       "      <td>5</td>\n",
       "      <td>Lobsters, Too</td>\n",
       "      <td>3 Sep 2021</td>\n",
       "      <td>8.3</td>\n",
       "      <td>140</td>\n",
       "      <td>Bette, Tina and Carrie are all forced together...</td>\n",
       "      <td>GenerationQ</td>\n",
       "    </tr>\n",
       "    <tr>\n",
       "      <th>13</th>\n",
       "      <td>2</td>\n",
       "      <td>6</td>\n",
       "      <td>Love Shack</td>\n",
       "      <td>10 Sep 2021</td>\n",
       "      <td>8.4</td>\n",
       "      <td>138</td>\n",
       "      <td>During an explosive night at Dana's, Bette is ...</td>\n",
       "      <td>GenerationQ</td>\n",
       "    </tr>\n",
       "    <tr>\n",
       "      <th>14</th>\n",
       "      <td>2</td>\n",
       "      <td>7</td>\n",
       "      <td>Light</td>\n",
       "      <td>17 Sep 2021</td>\n",
       "      <td>8.4</td>\n",
       "      <td>131</td>\n",
       "      <td>Bette takes a big swing with Pippa. Shane lean...</td>\n",
       "      <td>GenerationQ</td>\n",
       "    </tr>\n",
       "    <tr>\n",
       "      <th>15</th>\n",
       "      <td>2</td>\n",
       "      <td>8</td>\n",
       "      <td>Launch Party</td>\n",
       "      <td>24 Sep 2021</td>\n",
       "      <td>8.2</td>\n",
       "      <td>122</td>\n",
       "      <td>A fallout between Bette and Dani. Shane confro...</td>\n",
       "      <td>GenerationQ</td>\n",
       "    </tr>\n",
       "    <tr>\n",
       "      <th>16</th>\n",
       "      <td>2</td>\n",
       "      <td>9</td>\n",
       "      <td>Last Dance</td>\n",
       "      <td>1 Oct 2021</td>\n",
       "      <td>8.7</td>\n",
       "      <td>115</td>\n",
       "      <td>Tensions rise between Bette, Tina and Angie; S...</td>\n",
       "      <td>GenerationQ</td>\n",
       "    </tr>\n",
       "    <tr>\n",
       "      <th>17</th>\n",
       "      <td>2</td>\n",
       "      <td>10</td>\n",
       "      <td>Last Call</td>\n",
       "      <td>8 Oct 2021</td>\n",
       "      <td>8.7</td>\n",
       "      <td>103</td>\n",
       "      <td>Bette is forced to make a huge decision as Tin...</td>\n",
       "      <td>GenerationQ</td>\n",
       "    </tr>\n",
       "  </tbody>\n",
       "</table>\n",
       "</div>"
      ],
      "text/plain": [
       "    season_no  episode_no        episode_name episode_airdate episode_score  \\\n",
       "0           1           1   Let's Do It Again      4 Feb 2020           8.1   \n",
       "1           1           2        Less is More     15 Dec 2019           8.1   \n",
       "2           1           3           Lost Love     18 Feb 2020           8.1   \n",
       "3           1           4            LA Times     29 Dec 2019           8.6   \n",
       "4           1           5              Labels      5 Jan 2020           8.4   \n",
       "5           1           6          Loose Ends     12 Jan 2020           8.7   \n",
       "6           1           7         Lose It All     19 Jan 2020           8.2   \n",
       "7           1           8  Lapse in Judgement     26 Jan 2020           8.6   \n",
       "8           2           1   Late to the Party      6 Aug 2021           8.6   \n",
       "9           2           2          Lean on Me     13 Aug 2021           8.2   \n",
       "10          2           3      Luck Be a Lady     20 Aug 2021           8.4   \n",
       "11          2           4          Lake House     27 Aug 2021           8.1   \n",
       "12          2           5       Lobsters, Too      3 Sep 2021           8.3   \n",
       "13          2           6          Love Shack     10 Sep 2021           8.4   \n",
       "14          2           7               Light     17 Sep 2021           8.4   \n",
       "15          2           8        Launch Party     24 Sep 2021           8.2   \n",
       "16          2           9          Last Dance      1 Oct 2021           8.7   \n",
       "17          2          10           Last Call      8 Oct 2021           8.7   \n",
       "\n",
       "   episode_votes                                episode_description  \\\n",
       "0            390  Ten years after we last left them, we find Bet...   \n",
       "1            284  Bette weathers fallout as she prepares for an ...   \n",
       "2            257  Bette prepares for an important debate. Alice ...   \n",
       "3            288  Dani is forced to get involved in Bette's pers...   \n",
       "4            230  Bette feels guilty about lying to Angie; unexp...   \n",
       "5            275  Bette and Dani reckon with the fallout of a re...   \n",
       "6            200  Bette is conflicted about old feelings, Shane ...   \n",
       "7            211  Tensions run high as Bette and Dani await the ...   \n",
       "8            235  Bette is forced to navigate major changes. Sha...   \n",
       "9            166  Bette makes big moves at her new job. Shane vi...   \n",
       "10           150  Bette's passion is ignited at work while Angie...   \n",
       "11           138  Bette finds the artist Pippa Pascal and offers...   \n",
       "12           140  Bette, Tina and Carrie are all forced together...   \n",
       "13           138  During an explosive night at Dana's, Bette is ...   \n",
       "14           131  Bette takes a big swing with Pippa. Shane lean...   \n",
       "15           122  A fallout between Bette and Dani. Shane confro...   \n",
       "16           115  Tensions rise between Bette, Tina and Angie; S...   \n",
       "17           103  Bette is forced to make a huge decision as Tin...   \n",
       "\n",
       "     generation  \n",
       "0   GenerationQ  \n",
       "1   GenerationQ  \n",
       "2   GenerationQ  \n",
       "3   GenerationQ  \n",
       "4   GenerationQ  \n",
       "5   GenerationQ  \n",
       "6   GenerationQ  \n",
       "7   GenerationQ  \n",
       "8   GenerationQ  \n",
       "9   GenerationQ  \n",
       "10  GenerationQ  \n",
       "11  GenerationQ  \n",
       "12  GenerationQ  \n",
       "13  GenerationQ  \n",
       "14  GenerationQ  \n",
       "15  GenerationQ  \n",
       "16  GenerationQ  \n",
       "17  GenerationQ  "
      ]
     },
     "execution_count": 15,
     "metadata": {},
     "output_type": "execute_result"
    }
   ],
   "source": [
    "genq_df = pd.DataFrame({\n",
    "    'season_no': season_no_list,\n",
    "    'episode_no': episode_no_list,\n",
    "    'episode_name': episode_name_list,\n",
    "    'episode_airdate': episode_airdate_list,\n",
    "    'episode_score': episode_score_list,\n",
    "    'episode_votes': episode_votes_list,\n",
    "    'episode_description': episode_description_list,\n",
    "})\n",
    "\n",
    "genq_df['generation'] = 'GenerationQ'\n",
    "\n",
    "genq_df"
   ]
  },
  {
   "cell_type": "code",
   "execution_count": 17,
   "metadata": {},
   "outputs": [],
   "source": [
    "genq_df.to_excel('genq.xlsx')"
   ]
  },
  {
   "cell_type": "markdown",
   "metadata": {},
   "source": [
    "# Combining Original + GenQ"
   ]
  },
  {
   "cell_type": "code",
   "execution_count": 20,
   "metadata": {},
   "outputs": [
    {
     "name": "stderr",
     "output_type": "stream",
     "text": [
      "/var/folders/jb/bgsbb9n16hv85gggk52j8z000000gp/T/ipykernel_36063/3334256815.py:1: FutureWarning: The frame.append method is deprecated and will be removed from pandas in a future version. Use pandas.concat instead.\n",
      "  df_tlw_all = tlw_df.append(genq_df)\n"
     ]
    },
    {
     "data": {
      "text/html": [
       "<div>\n",
       "<style scoped>\n",
       "    .dataframe tbody tr th:only-of-type {\n",
       "        vertical-align: middle;\n",
       "    }\n",
       "\n",
       "    .dataframe tbody tr th {\n",
       "        vertical-align: top;\n",
       "    }\n",
       "\n",
       "    .dataframe thead th {\n",
       "        text-align: right;\n",
       "    }\n",
       "</style>\n",
       "<table border=\"1\" class=\"dataframe\">\n",
       "  <thead>\n",
       "    <tr style=\"text-align: right;\">\n",
       "      <th></th>\n",
       "      <th>season_no</th>\n",
       "      <th>episode_no</th>\n",
       "      <th>episode_name</th>\n",
       "      <th>episode_airdate</th>\n",
       "      <th>episode_score</th>\n",
       "      <th>episode_votes</th>\n",
       "      <th>episode_description</th>\n",
       "      <th>generation</th>\n",
       "    </tr>\n",
       "  </thead>\n",
       "  <tbody>\n",
       "    <tr>\n",
       "      <th>0</th>\n",
       "      <td>1</td>\n",
       "      <td>1</td>\n",
       "      <td>Pilot</td>\n",
       "      <td>18 Jan 2004</td>\n",
       "      <td>8.0</td>\n",
       "      <td>514</td>\n",
       "      <td>Jenny moves to L.A. and meets her new lesbian ...</td>\n",
       "      <td>Original</td>\n",
       "    </tr>\n",
       "    <tr>\n",
       "      <th>1</th>\n",
       "      <td>1</td>\n",
       "      <td>2</td>\n",
       "      <td>Let's Do It</td>\n",
       "      <td>25 Jan 2004</td>\n",
       "      <td>8.0</td>\n",
       "      <td>324</td>\n",
       "      <td>Bette and Tina wait eagerly to see if Tina wil...</td>\n",
       "      <td>Original</td>\n",
       "    </tr>\n",
       "    <tr>\n",
       "      <th>2</th>\n",
       "      <td>1</td>\n",
       "      <td>3</td>\n",
       "      <td>Longing</td>\n",
       "      <td>1 Feb 2004</td>\n",
       "      <td>7.6</td>\n",
       "      <td>275</td>\n",
       "      <td>Bette takes a step to win her battle of wills ...</td>\n",
       "      <td>Original</td>\n",
       "    </tr>\n",
       "    <tr>\n",
       "      <th>3</th>\n",
       "      <td>1</td>\n",
       "      <td>4</td>\n",
       "      <td>Lies, Lies, Lies</td>\n",
       "      <td>8 Feb 2004</td>\n",
       "      <td>7.7</td>\n",
       "      <td>261</td>\n",
       "      <td>Bette greets Tina's pregnancy with delight des...</td>\n",
       "      <td>Original</td>\n",
       "    </tr>\n",
       "    <tr>\n",
       "      <th>4</th>\n",
       "      <td>1</td>\n",
       "      <td>5</td>\n",
       "      <td>Lawfully</td>\n",
       "      <td>15 Feb 2004</td>\n",
       "      <td>7.9</td>\n",
       "      <td>252</td>\n",
       "      <td>Tim discovers Jenny's affair with Marina - lea...</td>\n",
       "      <td>Original</td>\n",
       "    </tr>\n",
       "    <tr>\n",
       "      <th>...</th>\n",
       "      <td>...</td>\n",
       "      <td>...</td>\n",
       "      <td>...</td>\n",
       "      <td>...</td>\n",
       "      <td>...</td>\n",
       "      <td>...</td>\n",
       "      <td>...</td>\n",
       "      <td>...</td>\n",
       "    </tr>\n",
       "    <tr>\n",
       "      <th>83</th>\n",
       "      <td>2</td>\n",
       "      <td>6</td>\n",
       "      <td>Love Shack</td>\n",
       "      <td>10 Sep 2021</td>\n",
       "      <td>8.4</td>\n",
       "      <td>138</td>\n",
       "      <td>During an explosive night at Dana's, Bette is ...</td>\n",
       "      <td>GenerationQ</td>\n",
       "    </tr>\n",
       "    <tr>\n",
       "      <th>84</th>\n",
       "      <td>2</td>\n",
       "      <td>7</td>\n",
       "      <td>Light</td>\n",
       "      <td>17 Sep 2021</td>\n",
       "      <td>8.4</td>\n",
       "      <td>131</td>\n",
       "      <td>Bette takes a big swing with Pippa. Shane lean...</td>\n",
       "      <td>GenerationQ</td>\n",
       "    </tr>\n",
       "    <tr>\n",
       "      <th>85</th>\n",
       "      <td>2</td>\n",
       "      <td>8</td>\n",
       "      <td>Launch Party</td>\n",
       "      <td>24 Sep 2021</td>\n",
       "      <td>8.2</td>\n",
       "      <td>122</td>\n",
       "      <td>A fallout between Bette and Dani. Shane confro...</td>\n",
       "      <td>GenerationQ</td>\n",
       "    </tr>\n",
       "    <tr>\n",
       "      <th>86</th>\n",
       "      <td>2</td>\n",
       "      <td>9</td>\n",
       "      <td>Last Dance</td>\n",
       "      <td>1 Oct 2021</td>\n",
       "      <td>8.7</td>\n",
       "      <td>115</td>\n",
       "      <td>Tensions rise between Bette, Tina and Angie; S...</td>\n",
       "      <td>GenerationQ</td>\n",
       "    </tr>\n",
       "    <tr>\n",
       "      <th>87</th>\n",
       "      <td>2</td>\n",
       "      <td>10</td>\n",
       "      <td>Last Call</td>\n",
       "      <td>8 Oct 2021</td>\n",
       "      <td>8.7</td>\n",
       "      <td>103</td>\n",
       "      <td>Bette is forced to make a huge decision as Tin...</td>\n",
       "      <td>GenerationQ</td>\n",
       "    </tr>\n",
       "  </tbody>\n",
       "</table>\n",
       "<p>88 rows × 8 columns</p>\n",
       "</div>"
      ],
      "text/plain": [
       "    season_no  episode_no      episode_name episode_airdate episode_score  \\\n",
       "0           1           1             Pilot     18 Jan 2004           8.0   \n",
       "1           1           2       Let's Do It     25 Jan 2004           8.0   \n",
       "2           1           3           Longing      1 Feb 2004           7.6   \n",
       "3           1           4  Lies, Lies, Lies      8 Feb 2004           7.7   \n",
       "4           1           5          Lawfully     15 Feb 2004           7.9   \n",
       "..        ...         ...               ...             ...           ...   \n",
       "83          2           6        Love Shack     10 Sep 2021           8.4   \n",
       "84          2           7             Light     17 Sep 2021           8.4   \n",
       "85          2           8      Launch Party     24 Sep 2021           8.2   \n",
       "86          2           9        Last Dance      1 Oct 2021           8.7   \n",
       "87          2          10         Last Call      8 Oct 2021           8.7   \n",
       "\n",
       "   episode_votes                                episode_description  \\\n",
       "0            514  Jenny moves to L.A. and meets her new lesbian ...   \n",
       "1            324  Bette and Tina wait eagerly to see if Tina wil...   \n",
       "2            275  Bette takes a step to win her battle of wills ...   \n",
       "3            261  Bette greets Tina's pregnancy with delight des...   \n",
       "4            252  Tim discovers Jenny's affair with Marina - lea...   \n",
       "..           ...                                                ...   \n",
       "83           138  During an explosive night at Dana's, Bette is ...   \n",
       "84           131  Bette takes a big swing with Pippa. Shane lean...   \n",
       "85           122  A fallout between Bette and Dani. Shane confro...   \n",
       "86           115  Tensions rise between Bette, Tina and Angie; S...   \n",
       "87           103  Bette is forced to make a huge decision as Tin...   \n",
       "\n",
       "     generation  \n",
       "0      Original  \n",
       "1      Original  \n",
       "2      Original  \n",
       "3      Original  \n",
       "4      Original  \n",
       "..          ...  \n",
       "83  GenerationQ  \n",
       "84  GenerationQ  \n",
       "85  GenerationQ  \n",
       "86  GenerationQ  \n",
       "87  GenerationQ  \n",
       "\n",
       "[88 rows x 8 columns]"
      ]
     },
     "execution_count": 20,
     "metadata": {},
     "output_type": "execute_result"
    }
   ],
   "source": [
    "df_tlw_all = tlw_df.append(genq_df)\n",
    "df_tlw_all = df_tlw_all.reset_index()\n",
    "df_tlw_all = df_tlw_all.drop(columns=['index'])\n",
    "\n",
    "df_tlw_all"
   ]
  },
  {
   "cell_type": "code",
   "execution_count": 21,
   "metadata": {},
   "outputs": [],
   "source": [
    "# df_tlw_all.to_excel('df_tlw_all.xlsx')"
   ]
  },
  {
   "cell_type": "markdown",
   "metadata": {},
   "source": [
    "# EDA"
   ]
  },
  {
   "cell_type": "code",
   "execution_count": 22,
   "metadata": {},
   "outputs": [
    {
     "name": "stdout",
     "output_type": "stream",
     "text": [
      "<class 'pandas.core.frame.DataFrame'>\n",
      "RangeIndex: 88 entries, 0 to 87\n",
      "Data columns (total 8 columns):\n",
      " #   Column               Non-Null Count  Dtype \n",
      "---  ------               --------------  ----- \n",
      " 0   season_no            88 non-null     int64 \n",
      " 1   episode_no           88 non-null     int64 \n",
      " 2   episode_name         88 non-null     object\n",
      " 3   episode_airdate      88 non-null     object\n",
      " 4   episode_score        88 non-null     object\n",
      " 5   episode_votes        88 non-null     object\n",
      " 6   episode_description  88 non-null     object\n",
      " 7   generation           88 non-null     object\n",
      "dtypes: int64(2), object(6)\n",
      "memory usage: 5.6+ KB\n"
     ]
    }
   ],
   "source": [
    "df_tlw_all.info()"
   ]
  },
  {
   "cell_type": "markdown",
   "metadata": {},
   "source": [
    "## cleaning\n",
    "1. dates\n",
    "2. number conversion"
   ]
  },
  {
   "cell_type": "code",
   "execution_count": 28,
   "metadata": {},
   "outputs": [
    {
     "data": {
      "text/html": [
       "<div>\n",
       "<style scoped>\n",
       "    .dataframe tbody tr th:only-of-type {\n",
       "        vertical-align: middle;\n",
       "    }\n",
       "\n",
       "    .dataframe tbody tr th {\n",
       "        vertical-align: top;\n",
       "    }\n",
       "\n",
       "    .dataframe thead th {\n",
       "        text-align: right;\n",
       "    }\n",
       "</style>\n",
       "<table border=\"1\" class=\"dataframe\">\n",
       "  <thead>\n",
       "    <tr style=\"text-align: right;\">\n",
       "      <th></th>\n",
       "      <th>season_no</th>\n",
       "      <th>episode_no</th>\n",
       "      <th>episode_name</th>\n",
       "      <th>episode_airdate</th>\n",
       "      <th>episode_score</th>\n",
       "      <th>episode_votes</th>\n",
       "      <th>episode_description</th>\n",
       "      <th>generation</th>\n",
       "      <th>episode_airdate_dt</th>\n",
       "    </tr>\n",
       "  </thead>\n",
       "  <tbody>\n",
       "    <tr>\n",
       "      <th>0</th>\n",
       "      <td>1</td>\n",
       "      <td>1</td>\n",
       "      <td>Pilot</td>\n",
       "      <td>18 Jan 2004</td>\n",
       "      <td>8.0</td>\n",
       "      <td>514</td>\n",
       "      <td>Jenny moves to L.A. and meets her new lesbian ...</td>\n",
       "      <td>Original</td>\n",
       "      <td>2004-01-18</td>\n",
       "    </tr>\n",
       "    <tr>\n",
       "      <th>1</th>\n",
       "      <td>1</td>\n",
       "      <td>2</td>\n",
       "      <td>Let's Do It</td>\n",
       "      <td>25 Jan 2004</td>\n",
       "      <td>8.0</td>\n",
       "      <td>324</td>\n",
       "      <td>Bette and Tina wait eagerly to see if Tina wil...</td>\n",
       "      <td>Original</td>\n",
       "      <td>2004-01-25</td>\n",
       "    </tr>\n",
       "    <tr>\n",
       "      <th>2</th>\n",
       "      <td>1</td>\n",
       "      <td>3</td>\n",
       "      <td>Longing</td>\n",
       "      <td>1 Feb 2004</td>\n",
       "      <td>7.6</td>\n",
       "      <td>275</td>\n",
       "      <td>Bette takes a step to win her battle of wills ...</td>\n",
       "      <td>Original</td>\n",
       "      <td>2004-02-01</td>\n",
       "    </tr>\n",
       "    <tr>\n",
       "      <th>3</th>\n",
       "      <td>1</td>\n",
       "      <td>4</td>\n",
       "      <td>Lies, Lies, Lies</td>\n",
       "      <td>8 Feb 2004</td>\n",
       "      <td>7.7</td>\n",
       "      <td>261</td>\n",
       "      <td>Bette greets Tina's pregnancy with delight des...</td>\n",
       "      <td>Original</td>\n",
       "      <td>2004-02-08</td>\n",
       "    </tr>\n",
       "    <tr>\n",
       "      <th>4</th>\n",
       "      <td>1</td>\n",
       "      <td>5</td>\n",
       "      <td>Lawfully</td>\n",
       "      <td>15 Feb 2004</td>\n",
       "      <td>7.9</td>\n",
       "      <td>252</td>\n",
       "      <td>Tim discovers Jenny's affair with Marina - lea...</td>\n",
       "      <td>Original</td>\n",
       "      <td>2004-02-15</td>\n",
       "    </tr>\n",
       "  </tbody>\n",
       "</table>\n",
       "</div>"
      ],
      "text/plain": [
       "   season_no  episode_no      episode_name episode_airdate  episode_score  \\\n",
       "0          1           1             Pilot     18 Jan 2004            8.0   \n",
       "1          1           2       Let's Do It     25 Jan 2004            8.0   \n",
       "2          1           3           Longing      1 Feb 2004            7.6   \n",
       "3          1           4  Lies, Lies, Lies      8 Feb 2004            7.7   \n",
       "4          1           5          Lawfully     15 Feb 2004            7.9   \n",
       "\n",
       "   episode_votes                                episode_description  \\\n",
       "0            514  Jenny moves to L.A. and meets her new lesbian ...   \n",
       "1            324  Bette and Tina wait eagerly to see if Tina wil...   \n",
       "2            275  Bette takes a step to win her battle of wills ...   \n",
       "3            261  Bette greets Tina's pregnancy with delight des...   \n",
       "4            252  Tim discovers Jenny's affair with Marina - lea...   \n",
       "\n",
       "  generation episode_airdate_dt  \n",
       "0   Original         2004-01-18  \n",
       "1   Original         2004-01-25  \n",
       "2   Original         2004-02-01  \n",
       "3   Original         2004-02-08  \n",
       "4   Original         2004-02-15  "
      ]
     },
     "metadata": {},
     "output_type": "display_data"
    },
    {
     "name": "stdout",
     "output_type": "stream",
     "text": [
      "-------------------------------------------------------------------------------------------------------------------------------------------------------------------------\n"
     ]
    },
    {
     "data": {
      "text/plain": [
       "None"
      ]
     },
     "metadata": {},
     "output_type": "display_data"
    },
    {
     "name": "stdout",
     "output_type": "stream",
     "text": [
      "<class 'pandas.core.frame.DataFrame'>\n",
      "RangeIndex: 88 entries, 0 to 87\n",
      "Data columns (total 9 columns):\n",
      " #   Column               Non-Null Count  Dtype         \n",
      "---  ------               --------------  -----         \n",
      " 0   season_no            88 non-null     int64         \n",
      " 1   episode_no           88 non-null     int64         \n",
      " 2   episode_name         88 non-null     object        \n",
      " 3   episode_airdate      88 non-null     object        \n",
      " 4   episode_score        88 non-null     float64       \n",
      " 5   episode_votes        88 non-null     int64         \n",
      " 6   episode_description  88 non-null     object        \n",
      " 7   generation           88 non-null     object        \n",
      " 8   episode_airdate_dt   88 non-null     datetime64[ns]\n",
      "dtypes: datetime64[ns](1), float64(1), int64(3), object(4)\n",
      "memory usage: 6.3+ KB\n"
     ]
    },
    {
     "data": {
      "text/plain": [
       "None"
      ]
     },
     "metadata": {},
     "output_type": "display_data"
    }
   ],
   "source": [
    "df_tlw_all['episode_airdate_dt'] = pd.to_datetime(df_tlw_all['episode_airdate'])\n",
    "df_tlw_all['episode_score'] = df_tlw_all['episode_score'].astype(float)\n",
    "df_tlw_all['episode_votes'] = df_tlw_all['episode_votes'].astype(int)\n",
    "\n",
    "display(df_tlw_all.head())\n",
    "display(print('-------------------------------------------------------------------------------------------------------------------------------------------------------------------------'))\n",
    "display(df_tlw_all.info())"
   ]
  },
  {
   "cell_type": "code",
   "execution_count": 53,
   "metadata": {},
   "outputs": [],
   "source": [
    "# df_tlw_all.to_excel('df_tlw_all_analyse.xlsx')"
   ]
  },
  {
   "cell_type": "markdown",
   "metadata": {},
   "source": [
    "## Automated EDA via `sweetviz`"
   ]
  },
  {
   "cell_type": "code",
   "execution_count": 33,
   "metadata": {},
   "outputs": [
    {
     "name": "stderr",
     "output_type": "stream",
     "text": [
      "Feature: season_no                           |█         | [ 10%]   00:00 -> (00:00 left)/Users/Kerryn/opt/anaconda3/envs/movie_scraping/lib/python3.10/site-packages/sweetviz/utils.py:34: FutureWarning: The series.append method is deprecated and will be removed from pandas in a future version. Use pandas.concat instead.\n",
      "  clamped_series = clamped_series.append(other_series, ignore_index=False)\n",
      "[Step 3/3] Generating associations graph     |          | [  0%]   00:00 -> (? left)    /Users/Kerryn/opt/anaconda3/envs/movie_scraping/lib/python3.10/site-packages/sweetviz/graph_associations.py:223: FutureWarning: The frame.append method is deprecated and will be removed from pandas in a future version. Use pandas.concat instead.\n",
      "  new_dataframe = new_dataframe.append(pd.Series(empty_row_dict, name=feature))\n",
      "/Users/Kerryn/opt/anaconda3/envs/movie_scraping/lib/python3.10/site-packages/sweetviz/graph_associations.py:223: FutureWarning: The frame.append method is deprecated and will be removed from pandas in a future version. Use pandas.concat instead.\n",
      "  new_dataframe = new_dataframe.append(pd.Series(empty_row_dict, name=feature))\n",
      "/Users/Kerryn/opt/anaconda3/envs/movie_scraping/lib/python3.10/site-packages/sweetviz/graph_associations.py:223: FutureWarning: The frame.append method is deprecated and will be removed from pandas in a future version. Use pandas.concat instead.\n",
      "  new_dataframe = new_dataframe.append(pd.Series(empty_row_dict, name=feature))\n",
      "/Users/Kerryn/opt/anaconda3/envs/movie_scraping/lib/python3.10/site-packages/sweetviz/graph_associations.py:223: FutureWarning: The frame.append method is deprecated and will be removed from pandas in a future version. Use pandas.concat instead.\n",
      "  new_dataframe = new_dataframe.append(pd.Series(empty_row_dict, name=feature))\n",
      "/Users/Kerryn/opt/anaconda3/envs/movie_scraping/lib/python3.10/site-packages/sweetviz/graph_associations.py:223: FutureWarning: The frame.append method is deprecated and will be removed from pandas in a future version. Use pandas.concat instead.\n",
      "  new_dataframe = new_dataframe.append(pd.Series(empty_row_dict, name=feature))\n",
      "Done! Use 'show' commands to display/save.   |██████████| [100%]   00:00 -> (00:00 left)\n"
     ]
    },
    {
     "name": "stdout",
     "output_type": "stream",
     "text": [
      "Report TheLWord.html was generated! NOTEBOOK/COLAB USERS: the web browser MAY not pop up, regardless, the report IS saved in your notebook/colab files.\n"
     ]
    }
   ],
   "source": [
    "# importing sweetviz\n",
    "import sweetviz as sv\n",
    "#analyzing the dataset\n",
    "tlw_report = sv.analyze(df_tlw_all)\n",
    "#display the report\n",
    "tlw_report.show_html('TheLWord.html')"
   ]
  },
  {
   "cell_type": "code",
   "execution_count": 34,
   "metadata": {},
   "outputs": [
    {
     "name": "stderr",
     "output_type": "stream",
     "text": [
      "Feature: season_no                           |█         | [ 10%]   00:00 -> (00:00 left)/Users/Kerryn/opt/anaconda3/envs/movie_scraping/lib/python3.10/site-packages/sweetviz/utils.py:34: FutureWarning: The series.append method is deprecated and will be removed from pandas in a future version. Use pandas.concat instead.\n",
      "  clamped_series = clamped_series.append(other_series, ignore_index=False)\n",
      "[Step 3/3] Generating associations graph     |          | [  0%]   00:00 -> (? left)    /Users/Kerryn/opt/anaconda3/envs/movie_scraping/lib/python3.10/site-packages/sweetviz/graph_associations.py:223: FutureWarning: The frame.append method is deprecated and will be removed from pandas in a future version. Use pandas.concat instead.\n",
      "  new_dataframe = new_dataframe.append(pd.Series(empty_row_dict, name=feature))\n",
      "/Users/Kerryn/opt/anaconda3/envs/movie_scraping/lib/python3.10/site-packages/sweetviz/graph_associations.py:223: FutureWarning: The frame.append method is deprecated and will be removed from pandas in a future version. Use pandas.concat instead.\n",
      "  new_dataframe = new_dataframe.append(pd.Series(empty_row_dict, name=feature))\n",
      "/Users/Kerryn/opt/anaconda3/envs/movie_scraping/lib/python3.10/site-packages/sweetviz/graph_associations.py:223: FutureWarning: The frame.append method is deprecated and will be removed from pandas in a future version. Use pandas.concat instead.\n",
      "  new_dataframe = new_dataframe.append(pd.Series(empty_row_dict, name=feature))\n",
      "/Users/Kerryn/opt/anaconda3/envs/movie_scraping/lib/python3.10/site-packages/sweetviz/graph_associations.py:223: FutureWarning: The frame.append method is deprecated and will be removed from pandas in a future version. Use pandas.concat instead.\n",
      "  new_dataframe = new_dataframe.append(pd.Series(empty_row_dict, name=feature))\n",
      "/Users/Kerryn/opt/anaconda3/envs/movie_scraping/lib/python3.10/site-packages/sweetviz/graph_associations.py:223: FutureWarning: The frame.append method is deprecated and will be removed from pandas in a future version. Use pandas.concat instead.\n",
      "  new_dataframe = new_dataframe.append(pd.Series(empty_row_dict, name=feature))\n",
      "/Users/Kerryn/opt/anaconda3/envs/movie_scraping/lib/python3.10/site-packages/sweetviz/graph_associations.py:223: FutureWarning: The frame.append method is deprecated and will be removed from pandas in a future version. Use pandas.concat instead.\n",
      "  new_dataframe = new_dataframe.append(pd.Series(empty_row_dict, name=feature))\n",
      "/Users/Kerryn/opt/anaconda3/envs/movie_scraping/lib/python3.10/site-packages/sweetviz/graph_associations.py:223: FutureWarning: The frame.append method is deprecated and will be removed from pandas in a future version. Use pandas.concat instead.\n",
      "  new_dataframe = new_dataframe.append(pd.Series(empty_row_dict, name=feature))\n",
      "/Users/Kerryn/opt/anaconda3/envs/movie_scraping/lib/python3.10/site-packages/sweetviz/graph_associations.py:223: FutureWarning: The frame.append method is deprecated and will be removed from pandas in a future version. Use pandas.concat instead.\n",
      "  new_dataframe = new_dataframe.append(pd.Series(empty_row_dict, name=feature))\n",
      "/Users/Kerryn/opt/anaconda3/envs/movie_scraping/lib/python3.10/site-packages/sweetviz/graph_associations.py:223: FutureWarning: The frame.append method is deprecated and will be removed from pandas in a future version. Use pandas.concat instead.\n",
      "  new_dataframe = new_dataframe.append(pd.Series(empty_row_dict, name=feature))\n",
      "/Users/Kerryn/opt/anaconda3/envs/movie_scraping/lib/python3.10/site-packages/sweetviz/graph_associations.py:223: FutureWarning: The frame.append method is deprecated and will be removed from pandas in a future version. Use pandas.concat instead.\n",
      "  new_dataframe = new_dataframe.append(pd.Series(empty_row_dict, name=feature))\n",
      "Done! Use 'show' commands to display/save.   |██████████| [100%]   00:01 -> (00:00 left)\n"
     ]
    },
    {
     "name": "stdout",
     "output_type": "stream",
     "text": [
      "Report TLW_Comparison.html was generated! NOTEBOOK/COLAB USERS: the web browser MAY not pop up, regardless, the report IS saved in your notebook/colab files.\n"
     ]
    }
   ],
   "source": [
    "df_compare = sv.compare(df_tlw_all[df_tlw_all['generation']=='Original'], df_tlw_all[df_tlw_all['generation']=='GenerationQ'])\n",
    "df_compare.show_html('TLW_Comparison.html')"
   ]
  },
  {
   "cell_type": "markdown",
   "metadata": {},
   "source": [
    "## Via `plotly`"
   ]
  },
  {
   "cell_type": "code",
   "execution_count": 35,
   "metadata": {},
   "outputs": [
    {
     "name": "stdout",
     "output_type": "stream",
     "text": [
      "Collecting plotly==5.6.0\n",
      "  Using cached plotly-5.6.0-py2.py3-none-any.whl (27.7 MB)\n",
      "Collecting tenacity>=6.2.0\n",
      "  Using cached tenacity-8.0.1-py3-none-any.whl (24 kB)\n",
      "Requirement already satisfied: six in /Users/Kerryn/opt/anaconda3/envs/movie_scraping/lib/python3.10/site-packages (from plotly==5.6.0) (1.16.0)\n",
      "Installing collected packages: tenacity, plotly\n",
      "Successfully installed plotly-5.6.0 tenacity-8.0.1\n"
     ]
    }
   ],
   "source": [
    "# !pip install plotly==5.6.0"
   ]
  },
  {
   "cell_type": "code",
   "execution_count": 1,
   "metadata": {},
   "outputs": [],
   "source": [
    "import plotly.express as px\n",
    "import matplotlib.pyplot as plt\n",
    "import pandas as pd\n",
    "%matplotlib inline"
   ]
  },
  {
   "cell_type": "code",
   "execution_count": 28,
   "metadata": {},
   "outputs": [
    {
     "data": {
      "text/html": [
       "<div>\n",
       "<style scoped>\n",
       "    .dataframe tbody tr th:only-of-type {\n",
       "        vertical-align: middle;\n",
       "    }\n",
       "\n",
       "    .dataframe tbody tr th {\n",
       "        vertical-align: top;\n",
       "    }\n",
       "\n",
       "    .dataframe thead th {\n",
       "        text-align: right;\n",
       "    }\n",
       "</style>\n",
       "<table border=\"1\" class=\"dataframe\">\n",
       "  <thead>\n",
       "    <tr style=\"text-align: right;\">\n",
       "      <th></th>\n",
       "      <th>season_no</th>\n",
       "      <th>episode_no</th>\n",
       "      <th>episode_name</th>\n",
       "      <th>episode_airdate</th>\n",
       "      <th>episode_score</th>\n",
       "      <th>episode_votes</th>\n",
       "      <th>episode_description</th>\n",
       "      <th>generation</th>\n",
       "      <th>episode_airdate_dt</th>\n",
       "    </tr>\n",
       "  </thead>\n",
       "  <tbody>\n",
       "    <tr>\n",
       "      <th>0</th>\n",
       "      <td>1</td>\n",
       "      <td>1</td>\n",
       "      <td>Pilot</td>\n",
       "      <td>18 Jan 2004</td>\n",
       "      <td>8.0</td>\n",
       "      <td>514</td>\n",
       "      <td>Jenny moves to L.A. and meets her new lesbian ...</td>\n",
       "      <td>Original</td>\n",
       "      <td>2004-01-18</td>\n",
       "    </tr>\n",
       "    <tr>\n",
       "      <th>1</th>\n",
       "      <td>1</td>\n",
       "      <td>2</td>\n",
       "      <td>Let's Do It</td>\n",
       "      <td>25 Jan 2004</td>\n",
       "      <td>8.0</td>\n",
       "      <td>324</td>\n",
       "      <td>Bette and Tina wait eagerly to see if Tina wil...</td>\n",
       "      <td>Original</td>\n",
       "      <td>2004-01-25</td>\n",
       "    </tr>\n",
       "    <tr>\n",
       "      <th>2</th>\n",
       "      <td>1</td>\n",
       "      <td>3</td>\n",
       "      <td>Longing</td>\n",
       "      <td>1 Feb 2004</td>\n",
       "      <td>7.6</td>\n",
       "      <td>275</td>\n",
       "      <td>Bette takes a step to win her battle of wills ...</td>\n",
       "      <td>Original</td>\n",
       "      <td>2004-02-01</td>\n",
       "    </tr>\n",
       "    <tr>\n",
       "      <th>3</th>\n",
       "      <td>1</td>\n",
       "      <td>4</td>\n",
       "      <td>Lies, Lies, Lies</td>\n",
       "      <td>8 Feb 2004</td>\n",
       "      <td>7.7</td>\n",
       "      <td>261</td>\n",
       "      <td>Bette greets Tina's pregnancy with delight des...</td>\n",
       "      <td>Original</td>\n",
       "      <td>2004-02-08</td>\n",
       "    </tr>\n",
       "    <tr>\n",
       "      <th>4</th>\n",
       "      <td>1</td>\n",
       "      <td>5</td>\n",
       "      <td>Lawfully</td>\n",
       "      <td>15 Feb 2004</td>\n",
       "      <td>7.9</td>\n",
       "      <td>252</td>\n",
       "      <td>Tim discovers Jenny's affair with Marina - lea...</td>\n",
       "      <td>Original</td>\n",
       "      <td>2004-02-15</td>\n",
       "    </tr>\n",
       "  </tbody>\n",
       "</table>\n",
       "</div>"
      ],
      "text/plain": [
       "   season_no  episode_no      episode_name episode_airdate  episode_score  \\\n",
       "0          1           1             Pilot     18 Jan 2004            8.0   \n",
       "1          1           2       Let's Do It     25 Jan 2004            8.0   \n",
       "2          1           3           Longing      1 Feb 2004            7.6   \n",
       "3          1           4  Lies, Lies, Lies      8 Feb 2004            7.7   \n",
       "4          1           5          Lawfully     15 Feb 2004            7.9   \n",
       "\n",
       "   episode_votes                                episode_description  \\\n",
       "0            514  Jenny moves to L.A. and meets her new lesbian ...   \n",
       "1            324  Bette and Tina wait eagerly to see if Tina wil...   \n",
       "2            275  Bette takes a step to win her battle of wills ...   \n",
       "3            261  Bette greets Tina's pregnancy with delight des...   \n",
       "4            252  Tim discovers Jenny's affair with Marina - lea...   \n",
       "\n",
       "  generation episode_airdate_dt  \n",
       "0   Original         2004-01-18  \n",
       "1   Original         2004-01-25  \n",
       "2   Original         2004-02-01  \n",
       "3   Original         2004-02-08  \n",
       "4   Original         2004-02-15  "
      ]
     },
     "execution_count": 28,
     "metadata": {},
     "output_type": "execute_result"
    }
   ],
   "source": [
    "df_tlw_all = pd.read_excel('df_tlw_all_analyse.xlsx')\n",
    "df_tlw_all = df_tlw_all.drop(columns=['Unnamed: 0'])\n",
    "df_tlw_all.head()"
   ]
  },
  {
   "cell_type": "code",
   "execution_count": 22,
   "metadata": {},
   "outputs": [
    {
     "data": {
      "application/vnd.plotly.v1+json": {
       "config": {
        "plotlyServerURL": "https://plot.ly"
       },
       "data": [
        {
         "hovertemplate": "generation=Original<br>episode_airdate=%{x}<br>episode_score=%{y}<extra></extra>",
         "legendgroup": "Original",
         "line": {
          "color": "#636efa",
          "dash": "solid"
         },
         "marker": {
          "symbol": "circle"
         },
         "mode": "lines",
         "name": "Original",
         "orientation": "v",
         "showlegend": true,
         "type": "scatter",
         "x": [
          "18 Jan 2004",
          "25 Jan 2004",
          "1 Feb 2004",
          "8 Feb 2004",
          "15 Feb 2004",
          "22 Feb 2004",
          "29 Feb 2004",
          "7 Mar 2004",
          "14 Mar 2004",
          "21 Mar 2004",
          "28 Mar 2004",
          "4 Apr 2004",
          "11 Apr 2004",
          "20 Feb 2005",
          "27 Feb 2005",
          "6 Mar 2005",
          "13 Mar 2005",
          "20 Mar 2005",
          "27 Mar 2005",
          "3 Apr 2005",
          "10 Apr 2005",
          "17 Apr 2005",
          "24 Apr 2005",
          "1 May 2005",
          "8 May 2005",
          "15 May 2005",
          "8 Jan 2006",
          "15 Jan 2006",
          "22 Jan 2006",
          "29 Jan 2006",
          "5 Feb 2006",
          "12 Feb 2006",
          "19 Feb 2006",
          "26 Feb 2006",
          "5 Mar 2006",
          "12 Mar 2006",
          "19 Mar 2006",
          "26 Mar 2006",
          "7 Jan 2007",
          "14 Jan 2007",
          "21 Jan 2007",
          "28 Jan 2007",
          "4 Feb 2007",
          "11 Feb 2007",
          "18 Feb 2007",
          "25 Feb 2007",
          "4 Mar 2007",
          "11 Mar 2007",
          "18 Mar 2007",
          "25 Mar 2007",
          "6 Jan 2008",
          "13 Jan 2008",
          "20 Jan 2008",
          "27 Jan 2008",
          "3 Feb 2008",
          "10 Feb 2008",
          "17 Feb 2008",
          "24 Feb 2008",
          "2 Mar 2008",
          "9 Mar 2008",
          "16 Mar 2008",
          "23 Mar 2008",
          "18 Jan 2009",
          "25 Jan 2009",
          "1 Feb 2009",
          "8 Feb 2009",
          "15 Feb 2009",
          "22 Feb 2009",
          "1 Mar 2009",
          "8 Mar 2009"
         ],
         "xaxis": "x",
         "y": [
          8,
          8,
          7.6,
          7.7,
          7.9,
          7.6,
          7.7,
          7.7,
          7.7,
          8.1,
          8,
          7.7,
          8.4,
          7.7,
          7.7,
          7.8,
          7.6,
          7.9,
          7.6,
          7.6,
          7.6,
          7.9,
          8,
          7.7,
          7.7,
          7.7,
          8.2,
          7.8,
          7.5,
          7.3,
          7.8,
          7.8,
          7.6,
          8,
          7.8,
          8.8,
          8.3,
          8.1,
          7.7,
          7.8,
          7.7,
          8,
          7.9,
          8.2,
          8.1,
          8,
          7.9,
          7.6,
          7.7,
          8.1,
          7.9,
          7.9,
          7.6,
          7.8,
          8.2,
          7.9,
          7.8,
          7.9,
          8.1,
          8.1,
          7.9,
          7.7,
          7.4,
          7.6,
          7.8,
          7.2,
          7.5,
          7.5,
          8,
          6.3
         ],
         "yaxis": "y"
        },
        {
         "hovertemplate": "generation=GenerationQ<br>episode_airdate=%{x}<br>episode_score=%{y}<extra></extra>",
         "legendgroup": "GenerationQ",
         "line": {
          "color": "#EF553B",
          "dash": "solid"
         },
         "marker": {
          "symbol": "circle"
         },
         "mode": "lines",
         "name": "GenerationQ",
         "orientation": "v",
         "showlegend": true,
         "type": "scatter",
         "x": [
          "4 Feb 2020",
          "15 Dec 2019",
          "18 Feb 2020",
          "29 Dec 2019",
          "5 Jan 2020",
          "12 Jan 2020",
          "19 Jan 2020",
          "26 Jan 2020",
          "6 Aug 2021",
          "13 Aug 2021",
          "20 Aug 2021",
          "27 Aug 2021",
          "3 Sep 2021",
          "10 Sep 2021",
          "17 Sep 2021",
          "24 Sep 2021",
          "1 Oct 2021",
          "8 Oct 2021"
         ],
         "xaxis": "x",
         "y": [
          8.1,
          8.1,
          8.1,
          8.6,
          8.4,
          8.7,
          8.2,
          8.6,
          8.6,
          8.2,
          8.4,
          8.1,
          8.3,
          8.4,
          8.4,
          8.2,
          8.7,
          8.7
         ],
         "yaxis": "y"
        }
       ],
       "layout": {
        "legend": {
         "title": {
          "text": "generation"
         },
         "tracegroupgap": 0
        },
        "margin": {
         "t": 60
        },
        "template": {
         "data": {
          "bar": [
           {
            "error_x": {
             "color": "#2a3f5f"
            },
            "error_y": {
             "color": "#2a3f5f"
            },
            "marker": {
             "line": {
              "color": "#E5ECF6",
              "width": 0.5
             },
             "pattern": {
              "fillmode": "overlay",
              "size": 10,
              "solidity": 0.2
             }
            },
            "type": "bar"
           }
          ],
          "barpolar": [
           {
            "marker": {
             "line": {
              "color": "#E5ECF6",
              "width": 0.5
             },
             "pattern": {
              "fillmode": "overlay",
              "size": 10,
              "solidity": 0.2
             }
            },
            "type": "barpolar"
           }
          ],
          "carpet": [
           {
            "aaxis": {
             "endlinecolor": "#2a3f5f",
             "gridcolor": "white",
             "linecolor": "white",
             "minorgridcolor": "white",
             "startlinecolor": "#2a3f5f"
            },
            "baxis": {
             "endlinecolor": "#2a3f5f",
             "gridcolor": "white",
             "linecolor": "white",
             "minorgridcolor": "white",
             "startlinecolor": "#2a3f5f"
            },
            "type": "carpet"
           }
          ],
          "choropleth": [
           {
            "colorbar": {
             "outlinewidth": 0,
             "ticks": ""
            },
            "type": "choropleth"
           }
          ],
          "contour": [
           {
            "colorbar": {
             "outlinewidth": 0,
             "ticks": ""
            },
            "colorscale": [
             [
              0,
              "#0d0887"
             ],
             [
              0.1111111111111111,
              "#46039f"
             ],
             [
              0.2222222222222222,
              "#7201a8"
             ],
             [
              0.3333333333333333,
              "#9c179e"
             ],
             [
              0.4444444444444444,
              "#bd3786"
             ],
             [
              0.5555555555555556,
              "#d8576b"
             ],
             [
              0.6666666666666666,
              "#ed7953"
             ],
             [
              0.7777777777777778,
              "#fb9f3a"
             ],
             [
              0.8888888888888888,
              "#fdca26"
             ],
             [
              1,
              "#f0f921"
             ]
            ],
            "type": "contour"
           }
          ],
          "contourcarpet": [
           {
            "colorbar": {
             "outlinewidth": 0,
             "ticks": ""
            },
            "type": "contourcarpet"
           }
          ],
          "heatmap": [
           {
            "colorbar": {
             "outlinewidth": 0,
             "ticks": ""
            },
            "colorscale": [
             [
              0,
              "#0d0887"
             ],
             [
              0.1111111111111111,
              "#46039f"
             ],
             [
              0.2222222222222222,
              "#7201a8"
             ],
             [
              0.3333333333333333,
              "#9c179e"
             ],
             [
              0.4444444444444444,
              "#bd3786"
             ],
             [
              0.5555555555555556,
              "#d8576b"
             ],
             [
              0.6666666666666666,
              "#ed7953"
             ],
             [
              0.7777777777777778,
              "#fb9f3a"
             ],
             [
              0.8888888888888888,
              "#fdca26"
             ],
             [
              1,
              "#f0f921"
             ]
            ],
            "type": "heatmap"
           }
          ],
          "heatmapgl": [
           {
            "colorbar": {
             "outlinewidth": 0,
             "ticks": ""
            },
            "colorscale": [
             [
              0,
              "#0d0887"
             ],
             [
              0.1111111111111111,
              "#46039f"
             ],
             [
              0.2222222222222222,
              "#7201a8"
             ],
             [
              0.3333333333333333,
              "#9c179e"
             ],
             [
              0.4444444444444444,
              "#bd3786"
             ],
             [
              0.5555555555555556,
              "#d8576b"
             ],
             [
              0.6666666666666666,
              "#ed7953"
             ],
             [
              0.7777777777777778,
              "#fb9f3a"
             ],
             [
              0.8888888888888888,
              "#fdca26"
             ],
             [
              1,
              "#f0f921"
             ]
            ],
            "type": "heatmapgl"
           }
          ],
          "histogram": [
           {
            "marker": {
             "pattern": {
              "fillmode": "overlay",
              "size": 10,
              "solidity": 0.2
             }
            },
            "type": "histogram"
           }
          ],
          "histogram2d": [
           {
            "colorbar": {
             "outlinewidth": 0,
             "ticks": ""
            },
            "colorscale": [
             [
              0,
              "#0d0887"
             ],
             [
              0.1111111111111111,
              "#46039f"
             ],
             [
              0.2222222222222222,
              "#7201a8"
             ],
             [
              0.3333333333333333,
              "#9c179e"
             ],
             [
              0.4444444444444444,
              "#bd3786"
             ],
             [
              0.5555555555555556,
              "#d8576b"
             ],
             [
              0.6666666666666666,
              "#ed7953"
             ],
             [
              0.7777777777777778,
              "#fb9f3a"
             ],
             [
              0.8888888888888888,
              "#fdca26"
             ],
             [
              1,
              "#f0f921"
             ]
            ],
            "type": "histogram2d"
           }
          ],
          "histogram2dcontour": [
           {
            "colorbar": {
             "outlinewidth": 0,
             "ticks": ""
            },
            "colorscale": [
             [
              0,
              "#0d0887"
             ],
             [
              0.1111111111111111,
              "#46039f"
             ],
             [
              0.2222222222222222,
              "#7201a8"
             ],
             [
              0.3333333333333333,
              "#9c179e"
             ],
             [
              0.4444444444444444,
              "#bd3786"
             ],
             [
              0.5555555555555556,
              "#d8576b"
             ],
             [
              0.6666666666666666,
              "#ed7953"
             ],
             [
              0.7777777777777778,
              "#fb9f3a"
             ],
             [
              0.8888888888888888,
              "#fdca26"
             ],
             [
              1,
              "#f0f921"
             ]
            ],
            "type": "histogram2dcontour"
           }
          ],
          "mesh3d": [
           {
            "colorbar": {
             "outlinewidth": 0,
             "ticks": ""
            },
            "type": "mesh3d"
           }
          ],
          "parcoords": [
           {
            "line": {
             "colorbar": {
              "outlinewidth": 0,
              "ticks": ""
             }
            },
            "type": "parcoords"
           }
          ],
          "pie": [
           {
            "automargin": true,
            "type": "pie"
           }
          ],
          "scatter": [
           {
            "marker": {
             "colorbar": {
              "outlinewidth": 0,
              "ticks": ""
             }
            },
            "type": "scatter"
           }
          ],
          "scatter3d": [
           {
            "line": {
             "colorbar": {
              "outlinewidth": 0,
              "ticks": ""
             }
            },
            "marker": {
             "colorbar": {
              "outlinewidth": 0,
              "ticks": ""
             }
            },
            "type": "scatter3d"
           }
          ],
          "scattercarpet": [
           {
            "marker": {
             "colorbar": {
              "outlinewidth": 0,
              "ticks": ""
             }
            },
            "type": "scattercarpet"
           }
          ],
          "scattergeo": [
           {
            "marker": {
             "colorbar": {
              "outlinewidth": 0,
              "ticks": ""
             }
            },
            "type": "scattergeo"
           }
          ],
          "scattergl": [
           {
            "marker": {
             "colorbar": {
              "outlinewidth": 0,
              "ticks": ""
             }
            },
            "type": "scattergl"
           }
          ],
          "scattermapbox": [
           {
            "marker": {
             "colorbar": {
              "outlinewidth": 0,
              "ticks": ""
             }
            },
            "type": "scattermapbox"
           }
          ],
          "scatterpolar": [
           {
            "marker": {
             "colorbar": {
              "outlinewidth": 0,
              "ticks": ""
             }
            },
            "type": "scatterpolar"
           }
          ],
          "scatterpolargl": [
           {
            "marker": {
             "colorbar": {
              "outlinewidth": 0,
              "ticks": ""
             }
            },
            "type": "scatterpolargl"
           }
          ],
          "scatterternary": [
           {
            "marker": {
             "colorbar": {
              "outlinewidth": 0,
              "ticks": ""
             }
            },
            "type": "scatterternary"
           }
          ],
          "surface": [
           {
            "colorbar": {
             "outlinewidth": 0,
             "ticks": ""
            },
            "colorscale": [
             [
              0,
              "#0d0887"
             ],
             [
              0.1111111111111111,
              "#46039f"
             ],
             [
              0.2222222222222222,
              "#7201a8"
             ],
             [
              0.3333333333333333,
              "#9c179e"
             ],
             [
              0.4444444444444444,
              "#bd3786"
             ],
             [
              0.5555555555555556,
              "#d8576b"
             ],
             [
              0.6666666666666666,
              "#ed7953"
             ],
             [
              0.7777777777777778,
              "#fb9f3a"
             ],
             [
              0.8888888888888888,
              "#fdca26"
             ],
             [
              1,
              "#f0f921"
             ]
            ],
            "type": "surface"
           }
          ],
          "table": [
           {
            "cells": {
             "fill": {
              "color": "#EBF0F8"
             },
             "line": {
              "color": "white"
             }
            },
            "header": {
             "fill": {
              "color": "#C8D4E3"
             },
             "line": {
              "color": "white"
             }
            },
            "type": "table"
           }
          ]
         },
         "layout": {
          "annotationdefaults": {
           "arrowcolor": "#2a3f5f",
           "arrowhead": 0,
           "arrowwidth": 1
          },
          "autotypenumbers": "strict",
          "coloraxis": {
           "colorbar": {
            "outlinewidth": 0,
            "ticks": ""
           }
          },
          "colorscale": {
           "diverging": [
            [
             0,
             "#8e0152"
            ],
            [
             0.1,
             "#c51b7d"
            ],
            [
             0.2,
             "#de77ae"
            ],
            [
             0.3,
             "#f1b6da"
            ],
            [
             0.4,
             "#fde0ef"
            ],
            [
             0.5,
             "#f7f7f7"
            ],
            [
             0.6,
             "#e6f5d0"
            ],
            [
             0.7,
             "#b8e186"
            ],
            [
             0.8,
             "#7fbc41"
            ],
            [
             0.9,
             "#4d9221"
            ],
            [
             1,
             "#276419"
            ]
           ],
           "sequential": [
            [
             0,
             "#0d0887"
            ],
            [
             0.1111111111111111,
             "#46039f"
            ],
            [
             0.2222222222222222,
             "#7201a8"
            ],
            [
             0.3333333333333333,
             "#9c179e"
            ],
            [
             0.4444444444444444,
             "#bd3786"
            ],
            [
             0.5555555555555556,
             "#d8576b"
            ],
            [
             0.6666666666666666,
             "#ed7953"
            ],
            [
             0.7777777777777778,
             "#fb9f3a"
            ],
            [
             0.8888888888888888,
             "#fdca26"
            ],
            [
             1,
             "#f0f921"
            ]
           ],
           "sequentialminus": [
            [
             0,
             "#0d0887"
            ],
            [
             0.1111111111111111,
             "#46039f"
            ],
            [
             0.2222222222222222,
             "#7201a8"
            ],
            [
             0.3333333333333333,
             "#9c179e"
            ],
            [
             0.4444444444444444,
             "#bd3786"
            ],
            [
             0.5555555555555556,
             "#d8576b"
            ],
            [
             0.6666666666666666,
             "#ed7953"
            ],
            [
             0.7777777777777778,
             "#fb9f3a"
            ],
            [
             0.8888888888888888,
             "#fdca26"
            ],
            [
             1,
             "#f0f921"
            ]
           ]
          },
          "colorway": [
           "#636efa",
           "#EF553B",
           "#00cc96",
           "#ab63fa",
           "#FFA15A",
           "#19d3f3",
           "#FF6692",
           "#B6E880",
           "#FF97FF",
           "#FECB52"
          ],
          "font": {
           "color": "#2a3f5f"
          },
          "geo": {
           "bgcolor": "white",
           "lakecolor": "white",
           "landcolor": "#E5ECF6",
           "showlakes": true,
           "showland": true,
           "subunitcolor": "white"
          },
          "hoverlabel": {
           "align": "left"
          },
          "hovermode": "closest",
          "mapbox": {
           "style": "light"
          },
          "paper_bgcolor": "white",
          "plot_bgcolor": "#E5ECF6",
          "polar": {
           "angularaxis": {
            "gridcolor": "white",
            "linecolor": "white",
            "ticks": ""
           },
           "bgcolor": "#E5ECF6",
           "radialaxis": {
            "gridcolor": "white",
            "linecolor": "white",
            "ticks": ""
           }
          },
          "scene": {
           "xaxis": {
            "backgroundcolor": "#E5ECF6",
            "gridcolor": "white",
            "gridwidth": 2,
            "linecolor": "white",
            "showbackground": true,
            "ticks": "",
            "zerolinecolor": "white"
           },
           "yaxis": {
            "backgroundcolor": "#E5ECF6",
            "gridcolor": "white",
            "gridwidth": 2,
            "linecolor": "white",
            "showbackground": true,
            "ticks": "",
            "zerolinecolor": "white"
           },
           "zaxis": {
            "backgroundcolor": "#E5ECF6",
            "gridcolor": "white",
            "gridwidth": 2,
            "linecolor": "white",
            "showbackground": true,
            "ticks": "",
            "zerolinecolor": "white"
           }
          },
          "shapedefaults": {
           "line": {
            "color": "#2a3f5f"
           }
          },
          "ternary": {
           "aaxis": {
            "gridcolor": "white",
            "linecolor": "white",
            "ticks": ""
           },
           "baxis": {
            "gridcolor": "white",
            "linecolor": "white",
            "ticks": ""
           },
           "bgcolor": "#E5ECF6",
           "caxis": {
            "gridcolor": "white",
            "linecolor": "white",
            "ticks": ""
           }
          },
          "title": {
           "x": 0.05
          },
          "xaxis": {
           "automargin": true,
           "gridcolor": "white",
           "linecolor": "white",
           "ticks": "",
           "title": {
            "standoff": 15
           },
           "zerolinecolor": "white",
           "zerolinewidth": 2
          },
          "yaxis": {
           "automargin": true,
           "gridcolor": "white",
           "linecolor": "white",
           "ticks": "",
           "title": {
            "standoff": 15
           },
           "zerolinecolor": "white",
           "zerolinewidth": 2
          }
         }
        },
        "xaxis": {
         "anchor": "y",
         "domain": [
          0,
          1
         ],
         "title": {
          "text": "episode_airdate"
         }
        },
        "yaxis": {
         "anchor": "x",
         "domain": [
          0,
          1
         ],
         "title": {
          "text": "episode_score"
         }
        }
       }
      }
     },
     "metadata": {},
     "output_type": "display_data"
    }
   ],
   "source": [
    "fig = px.line(df_tlw_all, x='episode_airdate', y='episode_score', color='generation')\n",
    "fig.show()"
   ]
  },
  {
   "cell_type": "code",
   "execution_count": 23,
   "metadata": {},
   "outputs": [
    {
     "data": {
      "application/vnd.plotly.v1+json": {
       "config": {
        "plotlyServerURL": "https://plot.ly"
       },
       "data": [
        {
         "hovertemplate": "generation=Original<br>episode_airdate=%{x}<br>episode_votes=%{y}<extra></extra>",
         "legendgroup": "Original",
         "line": {
          "color": "#636efa",
          "dash": "solid"
         },
         "marker": {
          "symbol": "circle"
         },
         "mode": "lines",
         "name": "Original",
         "orientation": "v",
         "showlegend": true,
         "type": "scatter",
         "x": [
          "18 Jan 2004",
          "25 Jan 2004",
          "1 Feb 2004",
          "8 Feb 2004",
          "15 Feb 2004",
          "22 Feb 2004",
          "29 Feb 2004",
          "7 Mar 2004",
          "14 Mar 2004",
          "21 Mar 2004",
          "28 Mar 2004",
          "4 Apr 2004",
          "11 Apr 2004",
          "20 Feb 2005",
          "27 Feb 2005",
          "6 Mar 2005",
          "13 Mar 2005",
          "20 Mar 2005",
          "27 Mar 2005",
          "3 Apr 2005",
          "10 Apr 2005",
          "17 Apr 2005",
          "24 Apr 2005",
          "1 May 2005",
          "8 May 2005",
          "15 May 2005",
          "8 Jan 2006",
          "15 Jan 2006",
          "22 Jan 2006",
          "29 Jan 2006",
          "5 Feb 2006",
          "12 Feb 2006",
          "19 Feb 2006",
          "26 Feb 2006",
          "5 Mar 2006",
          "12 Mar 2006",
          "19 Mar 2006",
          "26 Mar 2006",
          "7 Jan 2007",
          "14 Jan 2007",
          "21 Jan 2007",
          "28 Jan 2007",
          "4 Feb 2007",
          "11 Feb 2007",
          "18 Feb 2007",
          "25 Feb 2007",
          "4 Mar 2007",
          "11 Mar 2007",
          "18 Mar 2007",
          "25 Mar 2007",
          "6 Jan 2008",
          "13 Jan 2008",
          "20 Jan 2008",
          "27 Jan 2008",
          "3 Feb 2008",
          "10 Feb 2008",
          "17 Feb 2008",
          "24 Feb 2008",
          "2 Mar 2008",
          "9 Mar 2008",
          "16 Mar 2008",
          "23 Mar 2008",
          "18 Jan 2009",
          "25 Jan 2009",
          "1 Feb 2009",
          "8 Feb 2009",
          "15 Feb 2009",
          "22 Feb 2009",
          "1 Mar 2009",
          "8 Mar 2009"
         ],
         "xaxis": "x",
         "y": [
          514,
          324,
          275,
          261,
          252,
          247,
          236,
          223,
          224,
          239,
          227,
          220,
          279,
          228,
          204,
          194,
          227,
          205,
          194,
          205,
          196,
          194,
          183,
          177,
          197,
          201,
          208,
          173,
          169,
          179,
          189,
          163,
          165,
          170,
          167,
          252,
          206,
          179,
          189,
          181,
          169,
          196,
          190,
          214,
          190,
          196,
          193,
          191,
          195,
          201,
          195,
          185,
          172,
          175,
          173,
          182,
          167,
          161,
          198,
          168,
          151,
          182,
          186,
          153,
          162,
          154,
          154,
          144,
          150,
          266
         ],
         "yaxis": "y"
        },
        {
         "hovertemplate": "generation=GenerationQ<br>episode_airdate=%{x}<br>episode_votes=%{y}<extra></extra>",
         "legendgroup": "GenerationQ",
         "line": {
          "color": "#EF553B",
          "dash": "solid"
         },
         "marker": {
          "symbol": "circle"
         },
         "mode": "lines",
         "name": "GenerationQ",
         "orientation": "v",
         "showlegend": true,
         "type": "scatter",
         "x": [
          "4 Feb 2020",
          "15 Dec 2019",
          "18 Feb 2020",
          "29 Dec 2019",
          "5 Jan 2020",
          "12 Jan 2020",
          "19 Jan 2020",
          "26 Jan 2020",
          "6 Aug 2021",
          "13 Aug 2021",
          "20 Aug 2021",
          "27 Aug 2021",
          "3 Sep 2021",
          "10 Sep 2021",
          "17 Sep 2021",
          "24 Sep 2021",
          "1 Oct 2021",
          "8 Oct 2021"
         ],
         "xaxis": "x",
         "y": [
          390,
          284,
          257,
          288,
          230,
          275,
          200,
          211,
          235,
          166,
          150,
          138,
          140,
          138,
          131,
          122,
          115,
          103
         ],
         "yaxis": "y"
        }
       ],
       "layout": {
        "legend": {
         "title": {
          "text": "generation"
         },
         "tracegroupgap": 0
        },
        "margin": {
         "t": 60
        },
        "template": {
         "data": {
          "bar": [
           {
            "error_x": {
             "color": "#2a3f5f"
            },
            "error_y": {
             "color": "#2a3f5f"
            },
            "marker": {
             "line": {
              "color": "#E5ECF6",
              "width": 0.5
             },
             "pattern": {
              "fillmode": "overlay",
              "size": 10,
              "solidity": 0.2
             }
            },
            "type": "bar"
           }
          ],
          "barpolar": [
           {
            "marker": {
             "line": {
              "color": "#E5ECF6",
              "width": 0.5
             },
             "pattern": {
              "fillmode": "overlay",
              "size": 10,
              "solidity": 0.2
             }
            },
            "type": "barpolar"
           }
          ],
          "carpet": [
           {
            "aaxis": {
             "endlinecolor": "#2a3f5f",
             "gridcolor": "white",
             "linecolor": "white",
             "minorgridcolor": "white",
             "startlinecolor": "#2a3f5f"
            },
            "baxis": {
             "endlinecolor": "#2a3f5f",
             "gridcolor": "white",
             "linecolor": "white",
             "minorgridcolor": "white",
             "startlinecolor": "#2a3f5f"
            },
            "type": "carpet"
           }
          ],
          "choropleth": [
           {
            "colorbar": {
             "outlinewidth": 0,
             "ticks": ""
            },
            "type": "choropleth"
           }
          ],
          "contour": [
           {
            "colorbar": {
             "outlinewidth": 0,
             "ticks": ""
            },
            "colorscale": [
             [
              0,
              "#0d0887"
             ],
             [
              0.1111111111111111,
              "#46039f"
             ],
             [
              0.2222222222222222,
              "#7201a8"
             ],
             [
              0.3333333333333333,
              "#9c179e"
             ],
             [
              0.4444444444444444,
              "#bd3786"
             ],
             [
              0.5555555555555556,
              "#d8576b"
             ],
             [
              0.6666666666666666,
              "#ed7953"
             ],
             [
              0.7777777777777778,
              "#fb9f3a"
             ],
             [
              0.8888888888888888,
              "#fdca26"
             ],
             [
              1,
              "#f0f921"
             ]
            ],
            "type": "contour"
           }
          ],
          "contourcarpet": [
           {
            "colorbar": {
             "outlinewidth": 0,
             "ticks": ""
            },
            "type": "contourcarpet"
           }
          ],
          "heatmap": [
           {
            "colorbar": {
             "outlinewidth": 0,
             "ticks": ""
            },
            "colorscale": [
             [
              0,
              "#0d0887"
             ],
             [
              0.1111111111111111,
              "#46039f"
             ],
             [
              0.2222222222222222,
              "#7201a8"
             ],
             [
              0.3333333333333333,
              "#9c179e"
             ],
             [
              0.4444444444444444,
              "#bd3786"
             ],
             [
              0.5555555555555556,
              "#d8576b"
             ],
             [
              0.6666666666666666,
              "#ed7953"
             ],
             [
              0.7777777777777778,
              "#fb9f3a"
             ],
             [
              0.8888888888888888,
              "#fdca26"
             ],
             [
              1,
              "#f0f921"
             ]
            ],
            "type": "heatmap"
           }
          ],
          "heatmapgl": [
           {
            "colorbar": {
             "outlinewidth": 0,
             "ticks": ""
            },
            "colorscale": [
             [
              0,
              "#0d0887"
             ],
             [
              0.1111111111111111,
              "#46039f"
             ],
             [
              0.2222222222222222,
              "#7201a8"
             ],
             [
              0.3333333333333333,
              "#9c179e"
             ],
             [
              0.4444444444444444,
              "#bd3786"
             ],
             [
              0.5555555555555556,
              "#d8576b"
             ],
             [
              0.6666666666666666,
              "#ed7953"
             ],
             [
              0.7777777777777778,
              "#fb9f3a"
             ],
             [
              0.8888888888888888,
              "#fdca26"
             ],
             [
              1,
              "#f0f921"
             ]
            ],
            "type": "heatmapgl"
           }
          ],
          "histogram": [
           {
            "marker": {
             "pattern": {
              "fillmode": "overlay",
              "size": 10,
              "solidity": 0.2
             }
            },
            "type": "histogram"
           }
          ],
          "histogram2d": [
           {
            "colorbar": {
             "outlinewidth": 0,
             "ticks": ""
            },
            "colorscale": [
             [
              0,
              "#0d0887"
             ],
             [
              0.1111111111111111,
              "#46039f"
             ],
             [
              0.2222222222222222,
              "#7201a8"
             ],
             [
              0.3333333333333333,
              "#9c179e"
             ],
             [
              0.4444444444444444,
              "#bd3786"
             ],
             [
              0.5555555555555556,
              "#d8576b"
             ],
             [
              0.6666666666666666,
              "#ed7953"
             ],
             [
              0.7777777777777778,
              "#fb9f3a"
             ],
             [
              0.8888888888888888,
              "#fdca26"
             ],
             [
              1,
              "#f0f921"
             ]
            ],
            "type": "histogram2d"
           }
          ],
          "histogram2dcontour": [
           {
            "colorbar": {
             "outlinewidth": 0,
             "ticks": ""
            },
            "colorscale": [
             [
              0,
              "#0d0887"
             ],
             [
              0.1111111111111111,
              "#46039f"
             ],
             [
              0.2222222222222222,
              "#7201a8"
             ],
             [
              0.3333333333333333,
              "#9c179e"
             ],
             [
              0.4444444444444444,
              "#bd3786"
             ],
             [
              0.5555555555555556,
              "#d8576b"
             ],
             [
              0.6666666666666666,
              "#ed7953"
             ],
             [
              0.7777777777777778,
              "#fb9f3a"
             ],
             [
              0.8888888888888888,
              "#fdca26"
             ],
             [
              1,
              "#f0f921"
             ]
            ],
            "type": "histogram2dcontour"
           }
          ],
          "mesh3d": [
           {
            "colorbar": {
             "outlinewidth": 0,
             "ticks": ""
            },
            "type": "mesh3d"
           }
          ],
          "parcoords": [
           {
            "line": {
             "colorbar": {
              "outlinewidth": 0,
              "ticks": ""
             }
            },
            "type": "parcoords"
           }
          ],
          "pie": [
           {
            "automargin": true,
            "type": "pie"
           }
          ],
          "scatter": [
           {
            "marker": {
             "colorbar": {
              "outlinewidth": 0,
              "ticks": ""
             }
            },
            "type": "scatter"
           }
          ],
          "scatter3d": [
           {
            "line": {
             "colorbar": {
              "outlinewidth": 0,
              "ticks": ""
             }
            },
            "marker": {
             "colorbar": {
              "outlinewidth": 0,
              "ticks": ""
             }
            },
            "type": "scatter3d"
           }
          ],
          "scattercarpet": [
           {
            "marker": {
             "colorbar": {
              "outlinewidth": 0,
              "ticks": ""
             }
            },
            "type": "scattercarpet"
           }
          ],
          "scattergeo": [
           {
            "marker": {
             "colorbar": {
              "outlinewidth": 0,
              "ticks": ""
             }
            },
            "type": "scattergeo"
           }
          ],
          "scattergl": [
           {
            "marker": {
             "colorbar": {
              "outlinewidth": 0,
              "ticks": ""
             }
            },
            "type": "scattergl"
           }
          ],
          "scattermapbox": [
           {
            "marker": {
             "colorbar": {
              "outlinewidth": 0,
              "ticks": ""
             }
            },
            "type": "scattermapbox"
           }
          ],
          "scatterpolar": [
           {
            "marker": {
             "colorbar": {
              "outlinewidth": 0,
              "ticks": ""
             }
            },
            "type": "scatterpolar"
           }
          ],
          "scatterpolargl": [
           {
            "marker": {
             "colorbar": {
              "outlinewidth": 0,
              "ticks": ""
             }
            },
            "type": "scatterpolargl"
           }
          ],
          "scatterternary": [
           {
            "marker": {
             "colorbar": {
              "outlinewidth": 0,
              "ticks": ""
             }
            },
            "type": "scatterternary"
           }
          ],
          "surface": [
           {
            "colorbar": {
             "outlinewidth": 0,
             "ticks": ""
            },
            "colorscale": [
             [
              0,
              "#0d0887"
             ],
             [
              0.1111111111111111,
              "#46039f"
             ],
             [
              0.2222222222222222,
              "#7201a8"
             ],
             [
              0.3333333333333333,
              "#9c179e"
             ],
             [
              0.4444444444444444,
              "#bd3786"
             ],
             [
              0.5555555555555556,
              "#d8576b"
             ],
             [
              0.6666666666666666,
              "#ed7953"
             ],
             [
              0.7777777777777778,
              "#fb9f3a"
             ],
             [
              0.8888888888888888,
              "#fdca26"
             ],
             [
              1,
              "#f0f921"
             ]
            ],
            "type": "surface"
           }
          ],
          "table": [
           {
            "cells": {
             "fill": {
              "color": "#EBF0F8"
             },
             "line": {
              "color": "white"
             }
            },
            "header": {
             "fill": {
              "color": "#C8D4E3"
             },
             "line": {
              "color": "white"
             }
            },
            "type": "table"
           }
          ]
         },
         "layout": {
          "annotationdefaults": {
           "arrowcolor": "#2a3f5f",
           "arrowhead": 0,
           "arrowwidth": 1
          },
          "autotypenumbers": "strict",
          "coloraxis": {
           "colorbar": {
            "outlinewidth": 0,
            "ticks": ""
           }
          },
          "colorscale": {
           "diverging": [
            [
             0,
             "#8e0152"
            ],
            [
             0.1,
             "#c51b7d"
            ],
            [
             0.2,
             "#de77ae"
            ],
            [
             0.3,
             "#f1b6da"
            ],
            [
             0.4,
             "#fde0ef"
            ],
            [
             0.5,
             "#f7f7f7"
            ],
            [
             0.6,
             "#e6f5d0"
            ],
            [
             0.7,
             "#b8e186"
            ],
            [
             0.8,
             "#7fbc41"
            ],
            [
             0.9,
             "#4d9221"
            ],
            [
             1,
             "#276419"
            ]
           ],
           "sequential": [
            [
             0,
             "#0d0887"
            ],
            [
             0.1111111111111111,
             "#46039f"
            ],
            [
             0.2222222222222222,
             "#7201a8"
            ],
            [
             0.3333333333333333,
             "#9c179e"
            ],
            [
             0.4444444444444444,
             "#bd3786"
            ],
            [
             0.5555555555555556,
             "#d8576b"
            ],
            [
             0.6666666666666666,
             "#ed7953"
            ],
            [
             0.7777777777777778,
             "#fb9f3a"
            ],
            [
             0.8888888888888888,
             "#fdca26"
            ],
            [
             1,
             "#f0f921"
            ]
           ],
           "sequentialminus": [
            [
             0,
             "#0d0887"
            ],
            [
             0.1111111111111111,
             "#46039f"
            ],
            [
             0.2222222222222222,
             "#7201a8"
            ],
            [
             0.3333333333333333,
             "#9c179e"
            ],
            [
             0.4444444444444444,
             "#bd3786"
            ],
            [
             0.5555555555555556,
             "#d8576b"
            ],
            [
             0.6666666666666666,
             "#ed7953"
            ],
            [
             0.7777777777777778,
             "#fb9f3a"
            ],
            [
             0.8888888888888888,
             "#fdca26"
            ],
            [
             1,
             "#f0f921"
            ]
           ]
          },
          "colorway": [
           "#636efa",
           "#EF553B",
           "#00cc96",
           "#ab63fa",
           "#FFA15A",
           "#19d3f3",
           "#FF6692",
           "#B6E880",
           "#FF97FF",
           "#FECB52"
          ],
          "font": {
           "color": "#2a3f5f"
          },
          "geo": {
           "bgcolor": "white",
           "lakecolor": "white",
           "landcolor": "#E5ECF6",
           "showlakes": true,
           "showland": true,
           "subunitcolor": "white"
          },
          "hoverlabel": {
           "align": "left"
          },
          "hovermode": "closest",
          "mapbox": {
           "style": "light"
          },
          "paper_bgcolor": "white",
          "plot_bgcolor": "#E5ECF6",
          "polar": {
           "angularaxis": {
            "gridcolor": "white",
            "linecolor": "white",
            "ticks": ""
           },
           "bgcolor": "#E5ECF6",
           "radialaxis": {
            "gridcolor": "white",
            "linecolor": "white",
            "ticks": ""
           }
          },
          "scene": {
           "xaxis": {
            "backgroundcolor": "#E5ECF6",
            "gridcolor": "white",
            "gridwidth": 2,
            "linecolor": "white",
            "showbackground": true,
            "ticks": "",
            "zerolinecolor": "white"
           },
           "yaxis": {
            "backgroundcolor": "#E5ECF6",
            "gridcolor": "white",
            "gridwidth": 2,
            "linecolor": "white",
            "showbackground": true,
            "ticks": "",
            "zerolinecolor": "white"
           },
           "zaxis": {
            "backgroundcolor": "#E5ECF6",
            "gridcolor": "white",
            "gridwidth": 2,
            "linecolor": "white",
            "showbackground": true,
            "ticks": "",
            "zerolinecolor": "white"
           }
          },
          "shapedefaults": {
           "line": {
            "color": "#2a3f5f"
           }
          },
          "ternary": {
           "aaxis": {
            "gridcolor": "white",
            "linecolor": "white",
            "ticks": ""
           },
           "baxis": {
            "gridcolor": "white",
            "linecolor": "white",
            "ticks": ""
           },
           "bgcolor": "#E5ECF6",
           "caxis": {
            "gridcolor": "white",
            "linecolor": "white",
            "ticks": ""
           }
          },
          "title": {
           "x": 0.05
          },
          "xaxis": {
           "automargin": true,
           "gridcolor": "white",
           "linecolor": "white",
           "ticks": "",
           "title": {
            "standoff": 15
           },
           "zerolinecolor": "white",
           "zerolinewidth": 2
          },
          "yaxis": {
           "automargin": true,
           "gridcolor": "white",
           "linecolor": "white",
           "ticks": "",
           "title": {
            "standoff": 15
           },
           "zerolinecolor": "white",
           "zerolinewidth": 2
          }
         }
        },
        "xaxis": {
         "anchor": "y",
         "domain": [
          0,
          1
         ],
         "title": {
          "text": "episode_airdate"
         }
        },
        "yaxis": {
         "anchor": "x",
         "domain": [
          0,
          1
         ],
         "title": {
          "text": "episode_votes"
         }
        }
       }
      }
     },
     "metadata": {},
     "output_type": "display_data"
    }
   ],
   "source": [
    "fig = px.line(df_tlw_all, x='episode_airdate', y='episode_votes', color='generation')\n",
    "fig.show()"
   ]
  },
  {
   "cell_type": "code",
   "execution_count": 18,
   "metadata": {},
   "outputs": [
    {
     "data": {
      "application/vnd.plotly.v1+json": {
       "config": {
        "plotlyServerURL": "https://plot.ly"
       },
       "data": [
        {
         "name": "Score",
         "type": "scatter",
         "x": [
          "18 Jan 2004",
          "25 Jan 2004",
          "1 Feb 2004",
          "8 Feb 2004",
          "15 Feb 2004",
          "22 Feb 2004",
          "29 Feb 2004",
          "7 Mar 2004",
          "14 Mar 2004",
          "21 Mar 2004",
          "28 Mar 2004",
          "4 Apr 2004",
          "11 Apr 2004",
          "20 Feb 2005",
          "27 Feb 2005",
          "6 Mar 2005",
          "13 Mar 2005",
          "20 Mar 2005",
          "27 Mar 2005",
          "3 Apr 2005",
          "10 Apr 2005",
          "17 Apr 2005",
          "24 Apr 2005",
          "1 May 2005",
          "8 May 2005",
          "15 May 2005",
          "8 Jan 2006",
          "15 Jan 2006",
          "22 Jan 2006",
          "29 Jan 2006",
          "5 Feb 2006",
          "12 Feb 2006",
          "19 Feb 2006",
          "26 Feb 2006",
          "5 Mar 2006",
          "12 Mar 2006",
          "19 Mar 2006",
          "26 Mar 2006",
          "7 Jan 2007",
          "14 Jan 2007",
          "21 Jan 2007",
          "28 Jan 2007",
          "4 Feb 2007",
          "11 Feb 2007",
          "18 Feb 2007",
          "25 Feb 2007",
          "4 Mar 2007",
          "11 Mar 2007",
          "18 Mar 2007",
          "25 Mar 2007",
          "6 Jan 2008",
          "13 Jan 2008",
          "20 Jan 2008",
          "27 Jan 2008",
          "3 Feb 2008",
          "10 Feb 2008",
          "17 Feb 2008",
          "24 Feb 2008",
          "2 Mar 2008",
          "9 Mar 2008",
          "16 Mar 2008",
          "23 Mar 2008",
          "18 Jan 2009",
          "25 Jan 2009",
          "1 Feb 2009",
          "8 Feb 2009",
          "15 Feb 2009",
          "22 Feb 2009",
          "1 Mar 2009",
          "8 Mar 2009",
          "4 Feb 2020",
          "15 Dec 2019",
          "18 Feb 2020",
          "29 Dec 2019",
          "5 Jan 2020",
          "12 Jan 2020",
          "19 Jan 2020",
          "26 Jan 2020",
          "6 Aug 2021",
          "13 Aug 2021",
          "20 Aug 2021",
          "27 Aug 2021",
          "3 Sep 2021",
          "10 Sep 2021",
          "17 Sep 2021",
          "24 Sep 2021",
          "1 Oct 2021",
          "8 Oct 2021"
         ],
         "xaxis": "x",
         "y": [
          8,
          8,
          7.6,
          7.7,
          7.9,
          7.6,
          7.7,
          7.7,
          7.7,
          8.1,
          8,
          7.7,
          8.4,
          7.7,
          7.7,
          7.8,
          7.6,
          7.9,
          7.6,
          7.6,
          7.6,
          7.9,
          8,
          7.7,
          7.7,
          7.7,
          8.2,
          7.8,
          7.5,
          7.3,
          7.8,
          7.8,
          7.6,
          8,
          7.8,
          8.8,
          8.3,
          8.1,
          7.7,
          7.8,
          7.7,
          8,
          7.9,
          8.2,
          8.1,
          8,
          7.9,
          7.6,
          7.7,
          8.1,
          7.9,
          7.9,
          7.6,
          7.8,
          8.2,
          7.9,
          7.8,
          7.9,
          8.1,
          8.1,
          7.9,
          7.7,
          7.4,
          7.6,
          7.8,
          7.2,
          7.5,
          7.5,
          8,
          6.3,
          8.1,
          8.1,
          8.1,
          8.6,
          8.4,
          8.7,
          8.2,
          8.6,
          8.6,
          8.2,
          8.4,
          8.1,
          8.3,
          8.4,
          8.4,
          8.2,
          8.7,
          8.7
         ],
         "yaxis": "y"
        },
        {
         "name": "Votes",
         "type": "scatter",
         "x": [
          "18 Jan 2004",
          "25 Jan 2004",
          "1 Feb 2004",
          "8 Feb 2004",
          "15 Feb 2004",
          "22 Feb 2004",
          "29 Feb 2004",
          "7 Mar 2004",
          "14 Mar 2004",
          "21 Mar 2004",
          "28 Mar 2004",
          "4 Apr 2004",
          "11 Apr 2004",
          "20 Feb 2005",
          "27 Feb 2005",
          "6 Mar 2005",
          "13 Mar 2005",
          "20 Mar 2005",
          "27 Mar 2005",
          "3 Apr 2005",
          "10 Apr 2005",
          "17 Apr 2005",
          "24 Apr 2005",
          "1 May 2005",
          "8 May 2005",
          "15 May 2005",
          "8 Jan 2006",
          "15 Jan 2006",
          "22 Jan 2006",
          "29 Jan 2006",
          "5 Feb 2006",
          "12 Feb 2006",
          "19 Feb 2006",
          "26 Feb 2006",
          "5 Mar 2006",
          "12 Mar 2006",
          "19 Mar 2006",
          "26 Mar 2006",
          "7 Jan 2007",
          "14 Jan 2007",
          "21 Jan 2007",
          "28 Jan 2007",
          "4 Feb 2007",
          "11 Feb 2007",
          "18 Feb 2007",
          "25 Feb 2007",
          "4 Mar 2007",
          "11 Mar 2007",
          "18 Mar 2007",
          "25 Mar 2007",
          "6 Jan 2008",
          "13 Jan 2008",
          "20 Jan 2008",
          "27 Jan 2008",
          "3 Feb 2008",
          "10 Feb 2008",
          "17 Feb 2008",
          "24 Feb 2008",
          "2 Mar 2008",
          "9 Mar 2008",
          "16 Mar 2008",
          "23 Mar 2008",
          "18 Jan 2009",
          "25 Jan 2009",
          "1 Feb 2009",
          "8 Feb 2009",
          "15 Feb 2009",
          "22 Feb 2009",
          "1 Mar 2009",
          "8 Mar 2009",
          "4 Feb 2020",
          "15 Dec 2019",
          "18 Feb 2020",
          "29 Dec 2019",
          "5 Jan 2020",
          "12 Jan 2020",
          "19 Jan 2020",
          "26 Jan 2020",
          "6 Aug 2021",
          "13 Aug 2021",
          "20 Aug 2021",
          "27 Aug 2021",
          "3 Sep 2021",
          "10 Sep 2021",
          "17 Sep 2021",
          "24 Sep 2021",
          "1 Oct 2021",
          "8 Oct 2021"
         ],
         "xaxis": "x",
         "y": [
          514,
          324,
          275,
          261,
          252,
          247,
          236,
          223,
          224,
          239,
          227,
          220,
          279,
          228,
          204,
          194,
          227,
          205,
          194,
          205,
          196,
          194,
          183,
          177,
          197,
          201,
          208,
          173,
          169,
          179,
          189,
          163,
          165,
          170,
          167,
          252,
          206,
          179,
          189,
          181,
          169,
          196,
          190,
          214,
          190,
          196,
          193,
          191,
          195,
          201,
          195,
          185,
          172,
          175,
          173,
          182,
          167,
          161,
          198,
          168,
          151,
          182,
          186,
          153,
          162,
          154,
          154,
          144,
          150,
          266,
          390,
          284,
          257,
          288,
          230,
          275,
          200,
          211,
          235,
          166,
          150,
          138,
          140,
          138,
          131,
          122,
          115,
          103
         ],
         "yaxis": "y2"
        }
       ],
       "layout": {
        "template": {
         "data": {
          "bar": [
           {
            "error_x": {
             "color": "#2a3f5f"
            },
            "error_y": {
             "color": "#2a3f5f"
            },
            "marker": {
             "line": {
              "color": "#E5ECF6",
              "width": 0.5
             },
             "pattern": {
              "fillmode": "overlay",
              "size": 10,
              "solidity": 0.2
             }
            },
            "type": "bar"
           }
          ],
          "barpolar": [
           {
            "marker": {
             "line": {
              "color": "#E5ECF6",
              "width": 0.5
             },
             "pattern": {
              "fillmode": "overlay",
              "size": 10,
              "solidity": 0.2
             }
            },
            "type": "barpolar"
           }
          ],
          "carpet": [
           {
            "aaxis": {
             "endlinecolor": "#2a3f5f",
             "gridcolor": "white",
             "linecolor": "white",
             "minorgridcolor": "white",
             "startlinecolor": "#2a3f5f"
            },
            "baxis": {
             "endlinecolor": "#2a3f5f",
             "gridcolor": "white",
             "linecolor": "white",
             "minorgridcolor": "white",
             "startlinecolor": "#2a3f5f"
            },
            "type": "carpet"
           }
          ],
          "choropleth": [
           {
            "colorbar": {
             "outlinewidth": 0,
             "ticks": ""
            },
            "type": "choropleth"
           }
          ],
          "contour": [
           {
            "colorbar": {
             "outlinewidth": 0,
             "ticks": ""
            },
            "colorscale": [
             [
              0,
              "#0d0887"
             ],
             [
              0.1111111111111111,
              "#46039f"
             ],
             [
              0.2222222222222222,
              "#7201a8"
             ],
             [
              0.3333333333333333,
              "#9c179e"
             ],
             [
              0.4444444444444444,
              "#bd3786"
             ],
             [
              0.5555555555555556,
              "#d8576b"
             ],
             [
              0.6666666666666666,
              "#ed7953"
             ],
             [
              0.7777777777777778,
              "#fb9f3a"
             ],
             [
              0.8888888888888888,
              "#fdca26"
             ],
             [
              1,
              "#f0f921"
             ]
            ],
            "type": "contour"
           }
          ],
          "contourcarpet": [
           {
            "colorbar": {
             "outlinewidth": 0,
             "ticks": ""
            },
            "type": "contourcarpet"
           }
          ],
          "heatmap": [
           {
            "colorbar": {
             "outlinewidth": 0,
             "ticks": ""
            },
            "colorscale": [
             [
              0,
              "#0d0887"
             ],
             [
              0.1111111111111111,
              "#46039f"
             ],
             [
              0.2222222222222222,
              "#7201a8"
             ],
             [
              0.3333333333333333,
              "#9c179e"
             ],
             [
              0.4444444444444444,
              "#bd3786"
             ],
             [
              0.5555555555555556,
              "#d8576b"
             ],
             [
              0.6666666666666666,
              "#ed7953"
             ],
             [
              0.7777777777777778,
              "#fb9f3a"
             ],
             [
              0.8888888888888888,
              "#fdca26"
             ],
             [
              1,
              "#f0f921"
             ]
            ],
            "type": "heatmap"
           }
          ],
          "heatmapgl": [
           {
            "colorbar": {
             "outlinewidth": 0,
             "ticks": ""
            },
            "colorscale": [
             [
              0,
              "#0d0887"
             ],
             [
              0.1111111111111111,
              "#46039f"
             ],
             [
              0.2222222222222222,
              "#7201a8"
             ],
             [
              0.3333333333333333,
              "#9c179e"
             ],
             [
              0.4444444444444444,
              "#bd3786"
             ],
             [
              0.5555555555555556,
              "#d8576b"
             ],
             [
              0.6666666666666666,
              "#ed7953"
             ],
             [
              0.7777777777777778,
              "#fb9f3a"
             ],
             [
              0.8888888888888888,
              "#fdca26"
             ],
             [
              1,
              "#f0f921"
             ]
            ],
            "type": "heatmapgl"
           }
          ],
          "histogram": [
           {
            "marker": {
             "pattern": {
              "fillmode": "overlay",
              "size": 10,
              "solidity": 0.2
             }
            },
            "type": "histogram"
           }
          ],
          "histogram2d": [
           {
            "colorbar": {
             "outlinewidth": 0,
             "ticks": ""
            },
            "colorscale": [
             [
              0,
              "#0d0887"
             ],
             [
              0.1111111111111111,
              "#46039f"
             ],
             [
              0.2222222222222222,
              "#7201a8"
             ],
             [
              0.3333333333333333,
              "#9c179e"
             ],
             [
              0.4444444444444444,
              "#bd3786"
             ],
             [
              0.5555555555555556,
              "#d8576b"
             ],
             [
              0.6666666666666666,
              "#ed7953"
             ],
             [
              0.7777777777777778,
              "#fb9f3a"
             ],
             [
              0.8888888888888888,
              "#fdca26"
             ],
             [
              1,
              "#f0f921"
             ]
            ],
            "type": "histogram2d"
           }
          ],
          "histogram2dcontour": [
           {
            "colorbar": {
             "outlinewidth": 0,
             "ticks": ""
            },
            "colorscale": [
             [
              0,
              "#0d0887"
             ],
             [
              0.1111111111111111,
              "#46039f"
             ],
             [
              0.2222222222222222,
              "#7201a8"
             ],
             [
              0.3333333333333333,
              "#9c179e"
             ],
             [
              0.4444444444444444,
              "#bd3786"
             ],
             [
              0.5555555555555556,
              "#d8576b"
             ],
             [
              0.6666666666666666,
              "#ed7953"
             ],
             [
              0.7777777777777778,
              "#fb9f3a"
             ],
             [
              0.8888888888888888,
              "#fdca26"
             ],
             [
              1,
              "#f0f921"
             ]
            ],
            "type": "histogram2dcontour"
           }
          ],
          "mesh3d": [
           {
            "colorbar": {
             "outlinewidth": 0,
             "ticks": ""
            },
            "type": "mesh3d"
           }
          ],
          "parcoords": [
           {
            "line": {
             "colorbar": {
              "outlinewidth": 0,
              "ticks": ""
             }
            },
            "type": "parcoords"
           }
          ],
          "pie": [
           {
            "automargin": true,
            "type": "pie"
           }
          ],
          "scatter": [
           {
            "marker": {
             "colorbar": {
              "outlinewidth": 0,
              "ticks": ""
             }
            },
            "type": "scatter"
           }
          ],
          "scatter3d": [
           {
            "line": {
             "colorbar": {
              "outlinewidth": 0,
              "ticks": ""
             }
            },
            "marker": {
             "colorbar": {
              "outlinewidth": 0,
              "ticks": ""
             }
            },
            "type": "scatter3d"
           }
          ],
          "scattercarpet": [
           {
            "marker": {
             "colorbar": {
              "outlinewidth": 0,
              "ticks": ""
             }
            },
            "type": "scattercarpet"
           }
          ],
          "scattergeo": [
           {
            "marker": {
             "colorbar": {
              "outlinewidth": 0,
              "ticks": ""
             }
            },
            "type": "scattergeo"
           }
          ],
          "scattergl": [
           {
            "marker": {
             "colorbar": {
              "outlinewidth": 0,
              "ticks": ""
             }
            },
            "type": "scattergl"
           }
          ],
          "scattermapbox": [
           {
            "marker": {
             "colorbar": {
              "outlinewidth": 0,
              "ticks": ""
             }
            },
            "type": "scattermapbox"
           }
          ],
          "scatterpolar": [
           {
            "marker": {
             "colorbar": {
              "outlinewidth": 0,
              "ticks": ""
             }
            },
            "type": "scatterpolar"
           }
          ],
          "scatterpolargl": [
           {
            "marker": {
             "colorbar": {
              "outlinewidth": 0,
              "ticks": ""
             }
            },
            "type": "scatterpolargl"
           }
          ],
          "scatterternary": [
           {
            "marker": {
             "colorbar": {
              "outlinewidth": 0,
              "ticks": ""
             }
            },
            "type": "scatterternary"
           }
          ],
          "surface": [
           {
            "colorbar": {
             "outlinewidth": 0,
             "ticks": ""
            },
            "colorscale": [
             [
              0,
              "#0d0887"
             ],
             [
              0.1111111111111111,
              "#46039f"
             ],
             [
              0.2222222222222222,
              "#7201a8"
             ],
             [
              0.3333333333333333,
              "#9c179e"
             ],
             [
              0.4444444444444444,
              "#bd3786"
             ],
             [
              0.5555555555555556,
              "#d8576b"
             ],
             [
              0.6666666666666666,
              "#ed7953"
             ],
             [
              0.7777777777777778,
              "#fb9f3a"
             ],
             [
              0.8888888888888888,
              "#fdca26"
             ],
             [
              1,
              "#f0f921"
             ]
            ],
            "type": "surface"
           }
          ],
          "table": [
           {
            "cells": {
             "fill": {
              "color": "#EBF0F8"
             },
             "line": {
              "color": "white"
             }
            },
            "header": {
             "fill": {
              "color": "#C8D4E3"
             },
             "line": {
              "color": "white"
             }
            },
            "type": "table"
           }
          ]
         },
         "layout": {
          "annotationdefaults": {
           "arrowcolor": "#2a3f5f",
           "arrowhead": 0,
           "arrowwidth": 1
          },
          "autotypenumbers": "strict",
          "coloraxis": {
           "colorbar": {
            "outlinewidth": 0,
            "ticks": ""
           }
          },
          "colorscale": {
           "diverging": [
            [
             0,
             "#8e0152"
            ],
            [
             0.1,
             "#c51b7d"
            ],
            [
             0.2,
             "#de77ae"
            ],
            [
             0.3,
             "#f1b6da"
            ],
            [
             0.4,
             "#fde0ef"
            ],
            [
             0.5,
             "#f7f7f7"
            ],
            [
             0.6,
             "#e6f5d0"
            ],
            [
             0.7,
             "#b8e186"
            ],
            [
             0.8,
             "#7fbc41"
            ],
            [
             0.9,
             "#4d9221"
            ],
            [
             1,
             "#276419"
            ]
           ],
           "sequential": [
            [
             0,
             "#0d0887"
            ],
            [
             0.1111111111111111,
             "#46039f"
            ],
            [
             0.2222222222222222,
             "#7201a8"
            ],
            [
             0.3333333333333333,
             "#9c179e"
            ],
            [
             0.4444444444444444,
             "#bd3786"
            ],
            [
             0.5555555555555556,
             "#d8576b"
            ],
            [
             0.6666666666666666,
             "#ed7953"
            ],
            [
             0.7777777777777778,
             "#fb9f3a"
            ],
            [
             0.8888888888888888,
             "#fdca26"
            ],
            [
             1,
             "#f0f921"
            ]
           ],
           "sequentialminus": [
            [
             0,
             "#0d0887"
            ],
            [
             0.1111111111111111,
             "#46039f"
            ],
            [
             0.2222222222222222,
             "#7201a8"
            ],
            [
             0.3333333333333333,
             "#9c179e"
            ],
            [
             0.4444444444444444,
             "#bd3786"
            ],
            [
             0.5555555555555556,
             "#d8576b"
            ],
            [
             0.6666666666666666,
             "#ed7953"
            ],
            [
             0.7777777777777778,
             "#fb9f3a"
            ],
            [
             0.8888888888888888,
             "#fdca26"
            ],
            [
             1,
             "#f0f921"
            ]
           ]
          },
          "colorway": [
           "#636efa",
           "#EF553B",
           "#00cc96",
           "#ab63fa",
           "#FFA15A",
           "#19d3f3",
           "#FF6692",
           "#B6E880",
           "#FF97FF",
           "#FECB52"
          ],
          "font": {
           "color": "#2a3f5f"
          },
          "geo": {
           "bgcolor": "white",
           "lakecolor": "white",
           "landcolor": "#E5ECF6",
           "showlakes": true,
           "showland": true,
           "subunitcolor": "white"
          },
          "hoverlabel": {
           "align": "left"
          },
          "hovermode": "closest",
          "mapbox": {
           "style": "light"
          },
          "paper_bgcolor": "white",
          "plot_bgcolor": "#E5ECF6",
          "polar": {
           "angularaxis": {
            "gridcolor": "white",
            "linecolor": "white",
            "ticks": ""
           },
           "bgcolor": "#E5ECF6",
           "radialaxis": {
            "gridcolor": "white",
            "linecolor": "white",
            "ticks": ""
           }
          },
          "scene": {
           "xaxis": {
            "backgroundcolor": "#E5ECF6",
            "gridcolor": "white",
            "gridwidth": 2,
            "linecolor": "white",
            "showbackground": true,
            "ticks": "",
            "zerolinecolor": "white"
           },
           "yaxis": {
            "backgroundcolor": "#E5ECF6",
            "gridcolor": "white",
            "gridwidth": 2,
            "linecolor": "white",
            "showbackground": true,
            "ticks": "",
            "zerolinecolor": "white"
           },
           "zaxis": {
            "backgroundcolor": "#E5ECF6",
            "gridcolor": "white",
            "gridwidth": 2,
            "linecolor": "white",
            "showbackground": true,
            "ticks": "",
            "zerolinecolor": "white"
           }
          },
          "shapedefaults": {
           "line": {
            "color": "#2a3f5f"
           }
          },
          "ternary": {
           "aaxis": {
            "gridcolor": "white",
            "linecolor": "white",
            "ticks": ""
           },
           "baxis": {
            "gridcolor": "white",
            "linecolor": "white",
            "ticks": ""
           },
           "bgcolor": "#E5ECF6",
           "caxis": {
            "gridcolor": "white",
            "linecolor": "white",
            "ticks": ""
           }
          },
          "title": {
           "x": 0.05
          },
          "xaxis": {
           "automargin": true,
           "gridcolor": "white",
           "linecolor": "white",
           "ticks": "",
           "title": {
            "standoff": 15
           },
           "zerolinecolor": "white",
           "zerolinewidth": 2
          },
          "yaxis": {
           "automargin": true,
           "gridcolor": "white",
           "linecolor": "white",
           "ticks": "",
           "title": {
            "standoff": 15
           },
           "zerolinecolor": "white",
           "zerolinewidth": 2
          }
         }
        },
        "title": {
         "text": "TLW"
        },
        "xaxis": {
         "anchor": "y",
         "domain": [
          0,
          0.94
         ],
         "title": {
          "text": "X - axis"
         }
        },
        "yaxis": {
         "anchor": "x",
         "domain": [
          0,
          1
         ],
         "title": {
          "text": "<b>Main</b> Scores "
         }
        },
        "yaxis2": {
         "anchor": "x",
         "overlaying": "y",
         "side": "right",
         "title": {
          "text": "<b>secondary</b> Votes "
         }
        }
       }
      }
     },
     "metadata": {},
     "output_type": "display_data"
    }
   ],
   "source": [
    "# import graph_objects from plotly package\n",
    "import plotly.graph_objects as go\n",
    " \n",
    "# import make_subplots function from plotly.subplots\n",
    "# to make grid of plots\n",
    "from plotly.subplots import make_subplots\n",
    " \n",
    "# use specs parameter in make_subplots function\n",
    "# to create secondary y-axis\n",
    "fig = make_subplots(specs=[[{\"secondary_y\": True}]])\n",
    " \n",
    "# plot a scatter chart by specifying the x and y values\n",
    "# Use add_trace function to specify secondary_y axes.\n",
    "fig.add_trace(\n",
    "    go.Scatter(x=df_tlw_all['episode_airdate'], y=df_tlw_all['episode_score'], name=\"Score\"),\n",
    "    secondary_y=False)\n",
    " \n",
    "fig.add_trace(\n",
    "    go.Scatter(x=df_tlw_all['episode_airdate'], y=df_tlw_all['episode_votes'], name=\"Votes\"),\n",
    "    secondary_y=True)\n",
    " \n",
    "# Adding title text to the figure\n",
    "fig.update_layout(\n",
    "    title_text=\"TLW\"\n",
    ")\n",
    " \n",
    "# Naming x-axis\n",
    "fig.update_xaxes(title_text=\"X - axis\")\n",
    " \n",
    "# Naming y-axes\n",
    "fig.update_yaxes(title_text=\"<b>Main</b> Scores \", secondary_y=False)\n",
    "fig.update_yaxes(title_text=\"<b>secondary</b> Votes \", secondary_y=True)"
   ]
  },
  {
   "cell_type": "code",
   "execution_count": 5,
   "metadata": {},
   "outputs": [],
   "source": [
    "# !pip install --upgrade nbformat"
   ]
  },
  {
   "cell_type": "code",
   "execution_count": 29,
   "metadata": {},
   "outputs": [
    {
     "data": {
      "text/html": [
       "<div>\n",
       "<style scoped>\n",
       "    .dataframe tbody tr th:only-of-type {\n",
       "        vertical-align: middle;\n",
       "    }\n",
       "\n",
       "    .dataframe tbody tr th {\n",
       "        vertical-align: top;\n",
       "    }\n",
       "\n",
       "    .dataframe thead th {\n",
       "        text-align: right;\n",
       "    }\n",
       "</style>\n",
       "<table border=\"1\" class=\"dataframe\">\n",
       "  <thead>\n",
       "    <tr style=\"text-align: right;\">\n",
       "      <th></th>\n",
       "      <th>season_no</th>\n",
       "      <th>episode_no</th>\n",
       "      <th>episode_score</th>\n",
       "      <th>episode_votes</th>\n",
       "    </tr>\n",
       "  </thead>\n",
       "  <tbody>\n",
       "    <tr>\n",
       "      <th>season_no</th>\n",
       "      <td>1.000000</td>\n",
       "      <td>-0.054737</td>\n",
       "      <td>-0.376019</td>\n",
       "      <td>-0.450406</td>\n",
       "    </tr>\n",
       "    <tr>\n",
       "      <th>episode_no</th>\n",
       "      <td>-0.054737</td>\n",
       "      <td>1.000000</td>\n",
       "      <td>0.095049</td>\n",
       "      <td>-0.202284</td>\n",
       "    </tr>\n",
       "    <tr>\n",
       "      <th>episode_score</th>\n",
       "      <td>-0.376019</td>\n",
       "      <td>0.095049</td>\n",
       "      <td>1.000000</td>\n",
       "      <td>0.020366</td>\n",
       "    </tr>\n",
       "    <tr>\n",
       "      <th>episode_votes</th>\n",
       "      <td>-0.450406</td>\n",
       "      <td>-0.202284</td>\n",
       "      <td>0.020366</td>\n",
       "      <td>1.000000</td>\n",
       "    </tr>\n",
       "  </tbody>\n",
       "</table>\n",
       "</div>"
      ],
      "text/plain": [
       "               season_no  episode_no  episode_score  episode_votes\n",
       "season_no       1.000000   -0.054737      -0.376019      -0.450406\n",
       "episode_no     -0.054737    1.000000       0.095049      -0.202284\n",
       "episode_score  -0.376019    0.095049       1.000000       0.020366\n",
       "episode_votes  -0.450406   -0.202284       0.020366       1.000000"
      ]
     },
     "execution_count": 29,
     "metadata": {},
     "output_type": "execute_result"
    }
   ],
   "source": [
    "corr = df_tlw_all.corr()\n",
    "corr"
   ]
  },
  {
   "cell_type": "markdown",
   "metadata": {},
   "source": [
    "# NLP"
   ]
  },
  {
   "cell_type": "code",
   "execution_count": 32,
   "metadata": {},
   "outputs": [
    {
     "name": "stdout",
     "output_type": "stream",
     "text": [
      "\u001b[31mERROR: Could not find a version that satisfies the requirement torch==1.8.1 (from versions: none)\u001b[0m\u001b[31m\n",
      "\u001b[0m\u001b[31mERROR: No matching distribution found for torch==1.8.1\u001b[0m\u001b[31m\n",
      "\u001b[0m"
     ]
    }
   ],
   "source": []
  },
  {
   "cell_type": "code",
   "execution_count": null,
   "metadata": {},
   "outputs": [],
   "source": []
  },
  {
   "cell_type": "code",
   "execution_count": null,
   "metadata": {},
   "outputs": [],
   "source": []
  },
  {
   "cell_type": "code",
   "execution_count": null,
   "metadata": {},
   "outputs": [],
   "source": []
  },
  {
   "cell_type": "code",
   "execution_count": null,
   "metadata": {},
   "outputs": [],
   "source": []
  },
  {
   "cell_type": "code",
   "execution_count": null,
   "metadata": {},
   "outputs": [],
   "source": []
  },
  {
   "cell_type": "code",
   "execution_count": null,
   "metadata": {},
   "outputs": [],
   "source": []
  },
  {
   "cell_type": "code",
   "execution_count": null,
   "metadata": {},
   "outputs": [],
   "source": []
  },
  {
   "cell_type": "code",
   "execution_count": null,
   "metadata": {},
   "outputs": [],
   "source": []
  },
  {
   "cell_type": "code",
   "execution_count": null,
   "metadata": {},
   "outputs": [],
   "source": []
  },
  {
   "cell_type": "code",
   "execution_count": null,
   "metadata": {},
   "outputs": [],
   "source": []
  },
  {
   "cell_type": "markdown",
   "metadata": {},
   "source": []
  }
 ],
 "metadata": {
  "interpreter": {
   "hash": "a1cb815e2bfdbd3f7f3f4adc1f8317046650bfcdf4d966c39c4c990a90631a03"
  },
  "kernelspec": {
   "display_name": "Python 3.9.7 ('movie_scraping')",
   "language": "python",
   "name": "python3"
  },
  "language_info": {
   "codemirror_mode": {
    "name": "ipython",
    "version": 3
   },
   "file_extension": ".py",
   "mimetype": "text/x-python",
   "name": "python",
   "nbconvert_exporter": "python",
   "pygments_lexer": "ipython3",
   "version": "3.10.2"
  },
  "orig_nbformat": 4
 },
 "nbformat": 4,
 "nbformat_minor": 2
}
